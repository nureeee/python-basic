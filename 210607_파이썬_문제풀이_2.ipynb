{
  "nbformat": 4,
  "nbformat_minor": 0,
  "metadata": {
    "colab": {
      "name": "210607_파이썬 문제풀이_2.ipynb",
      "provenance": [],
      "authorship_tag": "ABX9TyNCAXPsaMoh6AZEohJvP6F7",
      "include_colab_link": true
    },
    "kernelspec": {
      "name": "python3",
      "display_name": "Python 3"
    },
    "language_info": {
      "name": "python"
    }
  },
  "cells": [
    {
      "cell_type": "markdown",
      "metadata": {
        "id": "view-in-github",
        "colab_type": "text"
      },
      "source": [
        "<a href=\"https://colab.research.google.com/github/nureeee/python-basic/blob/python/210607_%ED%8C%8C%EC%9D%B4%EC%8D%AC_%EB%AC%B8%EC%A0%9C%ED%92%80%EC%9D%B4_2.ipynb\" target=\"_parent\"><img src=\"https://colab.research.google.com/assets/colab-badge.svg\" alt=\"Open In Colab\"/></a>"
      ]
    },
    {
      "cell_type": "code",
      "metadata": {
        "id": "-DtdD4UWEary"
      },
      "source": [
        "movie_rank = ['닥터스트레인지', '스플릿', '럭키']"
      ],
      "execution_count": 1,
      "outputs": []
    },
    {
      "cell_type": "code",
      "metadata": {
        "id": "EPyHegf0OKvh"
      },
      "source": [
        "movie_rank.append('배트맨')"
      ],
      "execution_count": 2,
      "outputs": []
    },
    {
      "cell_type": "code",
      "metadata": {
        "colab": {
          "base_uri": "https://localhost:8080/"
        },
        "id": "poHiVSbiOV8N",
        "outputId": "28eaad53-4778-4912-8b70-24bd26be9a83"
      },
      "source": [
        "movie_rank"
      ],
      "execution_count": 3,
      "outputs": [
        {
          "output_type": "execute_result",
          "data": {
            "text/plain": [
              "['닥터스트레인지', '스플릿', '럭키', '배트맨']"
            ]
          },
          "metadata": {
            "tags": []
          },
          "execution_count": 3
        }
      ]
    },
    {
      "cell_type": "code",
      "metadata": {
        "id": "-2KdVYU_Ofe6"
      },
      "source": [
        "movie_rank.insert(1, '슈퍼맨')"
      ],
      "execution_count": 4,
      "outputs": []
    },
    {
      "cell_type": "code",
      "metadata": {
        "id": "HJqciDUmO99Q"
      },
      "source": [
        "lang1 = [\"C\", \"C++\", \"JAVA\"]\n",
        "lang2 = [\"Python\", \"Go\", \"C#\"]\n",
        "langs = lang1.extend(lang2)"
      ],
      "execution_count": 5,
      "outputs": []
    },
    {
      "cell_type": "code",
      "metadata": {
        "id": "zRixWRL-PNFH"
      },
      "source": [
        "langs"
      ],
      "execution_count": 6,
      "outputs": []
    },
    {
      "cell_type": "code",
      "metadata": {
        "colab": {
          "base_uri": "https://localhost:8080/"
        },
        "id": "m6HwHj99PO99",
        "outputId": "e1ac2059-14f9-48fc-922a-b96b8c0704a8"
      },
      "source": [
        "nums = [1, 2, 3, 4, 5]\n",
        "nums.sort(reverse=True)\n",
        "nums"
      ],
      "execution_count": 9,
      "outputs": [
        {
          "output_type": "execute_result",
          "data": {
            "text/plain": [
              "[5, 4, 3, 2, 1]"
            ]
          },
          "metadata": {
            "tags": []
          },
          "execution_count": 9
        }
      ]
    },
    {
      "cell_type": "code",
      "metadata": {
        "colab": {
          "base_uri": "https://localhost:8080/"
        },
        "id": "WmhNq1e8Pket",
        "outputId": "99b97583-125a-4e50-9560-809e1fb66d4b"
      },
      "source": [
        "interest = ['삼성전자', 'LG전자', 'Naver', 'SK하이닉스', '미래에셋대우']\n",
        "print()"
      ],
      "execution_count": 10,
      "outputs": [
        {
          "output_type": "stream",
          "text": [
            "['삼성전자', 'LG전자', 'Naver', 'SK하이닉스', '미래에셋대우']\n"
          ],
          "name": "stdout"
        }
      ]
    },
    {
      "cell_type": "code",
      "metadata": {
        "id": "aaf29YMAQjOp"
      },
      "source": [
        ""
      ],
      "execution_count": null,
      "outputs": []
    },
    {
      "cell_type": "code",
      "metadata": {
        "id": "JHdK-UqzSmpo"
      },
      "source": [
        "ic = {'메로나':1000, '폴라포':1200, '빵빠레':1800}"
      ],
      "execution_count": 11,
      "outputs": []
    },
    {
      "cell_type": "code",
      "metadata": {
        "colab": {
          "base_uri": "https://localhost:8080/"
        },
        "id": "O7bjmSJyTLhg",
        "outputId": "90477704-e18f-4617-ebd1-54f58db54237"
      },
      "source": [
        "ic"
      ],
      "execution_count": 13,
      "outputs": [
        {
          "output_type": "execute_result",
          "data": {
            "text/plain": [
              "{'메로나': 1000, '빵빠레': 1800, '폴라포': 1200}"
            ]
          },
          "metadata": {
            "tags": []
          },
          "execution_count": 13
        }
      ]
    },
    {
      "cell_type": "code",
      "metadata": {
        "id": "f3IWUBvSTUoP"
      },
      "source": [
        "ic['죠스바'] = 1200\n",
        "ic['월드콘'] = 1500"
      ],
      "execution_count": 15,
      "outputs": []
    },
    {
      "cell_type": "code",
      "metadata": {
        "colab": {
          "base_uri": "https://localhost:8080/"
        },
        "id": "a_ImrOvCUgoX",
        "outputId": "b35ea924-2da8-4571-f935-abd2f285f156"
      },
      "source": [
        "ic"
      ],
      "execution_count": 16,
      "outputs": [
        {
          "output_type": "execute_result",
          "data": {
            "text/plain": [
              "{'메로나': 1000, '빵빠레': 1800, '월드콘': 1500, '죠스바': 1200, '폴라포': 1200}"
            ]
          },
          "metadata": {
            "tags": []
          },
          "execution_count": 16
        }
      ]
    },
    {
      "cell_type": "code",
      "metadata": {
        "id": "EkoZIkFAU_Z-"
      },
      "source": [
        "ic['메로나'] = 1300"
      ],
      "execution_count": 17,
      "outputs": []
    },
    {
      "cell_type": "code",
      "metadata": {
        "colab": {
          "base_uri": "https://localhost:8080/"
        },
        "id": "1a9x3fZJVFyp",
        "outputId": "62edcbdc-3981-44c0-d014-86674ec962b5"
      },
      "source": [
        "new_product = {'팥빙수': 2700, '아맛나':1000}\n",
        "ic.update(new_product)\n",
        "ic"
      ],
      "execution_count": 21,
      "outputs": [
        {
          "output_type": "execute_result",
          "data": {
            "text/plain": [
              "{'메로나': 1300,\n",
              " '빵빠레': 1800,\n",
              " '아맛나': 1000,\n",
              " '월드콘': 1500,\n",
              " '죠스바': 1200,\n",
              " '팥빙수': 2700,\n",
              " '폴라포': 1200}"
            ]
          },
          "metadata": {
            "tags": []
          },
          "execution_count": 21
        }
      ]
    },
    {
      "cell_type": "code",
      "metadata": {
        "id": "-1eNIanBVmsN"
      },
      "source": [
        ""
      ],
      "execution_count": null,
      "outputs": []
    }
  ]
}