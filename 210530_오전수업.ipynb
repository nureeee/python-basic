{
  "nbformat": 4,
  "nbformat_minor": 0,
  "metadata": {
    "colab": {
      "name": "210530_오전수업.ipynb",
      "provenance": [],
      "authorship_tag": "ABX9TyPSD57B3ElmuI/M9YZ4uJV/",
      "include_colab_link": true
    },
    "kernelspec": {
      "name": "python3",
      "display_name": "Python 3"
    },
    "language_info": {
      "name": "python"
    }
  },
  "cells": [
    {
      "cell_type": "markdown",
      "metadata": {
        "id": "view-in-github",
        "colab_type": "text"
      },
      "source": [
        "<a href=\"https://colab.research.google.com/github/nureeee/python-basic/blob/python/210530_%EC%98%A4%EC%A0%84%EC%88%98%EC%97%85.ipynb\" target=\"_parent\"><img src=\"https://colab.research.google.com/assets/colab-badge.svg\" alt=\"Open In Colab\"/></a>"
      ]
    },
    {
      "cell_type": "code",
      "metadata": {
        "id": "-tjhFS262xm2"
      },
      "source": [
        "## s안의 s의 개수\n",
        "s = 'seoul seoul korea seoul'"
      ],
      "execution_count": 1,
      "outputs": []
    },
    {
      "cell_type": "code",
      "metadata": {
        "colab": {
          "base_uri": "https://localhost:8080/"
        },
        "id": "A_lsQQv123JP",
        "outputId": "8972bc15-185e-40f9-a8d1-b5669b4f8f8e"
      },
      "source": [
        "s.count('s')"
      ],
      "execution_count": 2,
      "outputs": [
        {
          "output_type": "execute_result",
          "data": {
            "text/plain": [
              "3"
            ]
          },
          "metadata": {
            "tags": []
          },
          "execution_count": 2
        }
      ]
    },
    {
      "cell_type": "code",
      "metadata": {
        "colab": {
          "base_uri": "https://localhost:8080/"
        },
        "id": "1VbWYCp-26xO",
        "outputId": "3bda5f01-8fd7-4d36-c666-7e60924bc1f5"
      },
      "source": [
        "s.find('seo')"
      ],
      "execution_count": 3,
      "outputs": [
        {
          "output_type": "execute_result",
          "data": {
            "text/plain": [
              "0"
            ]
          },
          "metadata": {
            "tags": []
          },
          "execution_count": 3
        }
      ]
    },
    {
      "cell_type": "code",
      "metadata": {
        "colab": {
          "base_uri": "https://localhost:8080/",
          "height": 35
        },
        "id": "K_nyvaeq3AvW",
        "outputId": "f6fa9e0b-afa7-4a6e-b2bd-fb64f599234b"
      },
      "source": [
        "s.replace('seoul', 'busan')\n"
      ],
      "execution_count": 4,
      "outputs": [
        {
          "output_type": "execute_result",
          "data": {
            "application/vnd.google.colaboratory.intrinsic+json": {
              "type": "string"
            },
            "text/plain": [
              "'busan busan korea busan'"
            ]
          },
          "metadata": {
            "tags": []
          },
          "execution_count": 4
        }
      ]
    },
    {
      "cell_type": "code",
      "metadata": {
        "colab": {
          "base_uri": "https://localhost:8080/"
        },
        "id": "WIi-9Mve3DQm",
        "outputId": "4fd14f92-7486-4d90-cfe0-e241c94ae073"
      },
      "source": [
        "s.index('o')"
      ],
      "execution_count": 5,
      "outputs": [
        {
          "output_type": "execute_result",
          "data": {
            "text/plain": [
              "2"
            ]
          },
          "metadata": {
            "tags": []
          },
          "execution_count": 5
        }
      ]
    },
    {
      "cell_type": "code",
      "metadata": {
        "colab": {
          "base_uri": "https://localhost:8080/"
        },
        "id": "HJu10kgQ3Fx_",
        "outputId": "af2aadb0-ac57-4bd1-9356-fdba1ea1af1a"
      },
      "source": [
        "## T가 없으면 -1로 나온다\n",
        "s.find('T')\n"
      ],
      "execution_count": 6,
      "outputs": [
        {
          "output_type": "execute_result",
          "data": {
            "text/plain": [
              "-1"
            ]
          },
          "metadata": {
            "tags": []
          },
          "execution_count": 6
        }
      ]
    },
    {
      "cell_type": "code",
      "metadata": {
        "colab": {
          "base_uri": "https://localhost:8080/"
        },
        "id": "KSyvqYER3IAv",
        "outputId": "e2eb8146-04e4-4353-d71c-049315347e3d"
      },
      "source": [
        "s.split('  ')\n"
      ],
      "execution_count": 7,
      "outputs": [
        {
          "output_type": "execute_result",
          "data": {
            "text/plain": [
              "['seoul seoul korea seoul']"
            ]
          },
          "metadata": {
            "tags": []
          },
          "execution_count": 7
        }
      ]
    },
    {
      "cell_type": "code",
      "metadata": {
        "colab": {
          "base_uri": "https://localhost:8080/",
          "height": 35
        },
        "id": "-dEAMq5D3K2e",
        "outputId": "7ce1b300-be40-45fb-a008-dcb2bd171ecd"
      },
      "source": [
        "'korea'.upper()\n"
      ],
      "execution_count": 8,
      "outputs": [
        {
          "output_type": "execute_result",
          "data": {
            "application/vnd.google.colaboratory.intrinsic+json": {
              "type": "string"
            },
            "text/plain": [
              "'KOREA'"
            ]
          },
          "metadata": {
            "tags": []
          },
          "execution_count": 8
        }
      ]
    },
    {
      "cell_type": "code",
      "metadata": {
        "colab": {
          "base_uri": "https://localhost:8080/",
          "height": 35
        },
        "id": "nc9NlDbr3Mwl",
        "outputId": "a0526f03-7ed6-439f-8c87-248bca531454"
      },
      "source": [
        "'KOREA'.lower()\n"
      ],
      "execution_count": 10,
      "outputs": [
        {
          "output_type": "execute_result",
          "data": {
            "application/vnd.google.colaboratory.intrinsic+json": {
              "type": "string"
            },
            "text/plain": [
              "'korea'"
            ]
          },
          "metadata": {
            "tags": []
          },
          "execution_count": 10
        }
      ]
    },
    {
      "cell_type": "code",
      "metadata": {
        "colab": {
          "base_uri": "https://localhost:8080/"
        },
        "id": "MDodQ8xM3OJ3",
        "outputId": "b42814e0-8ad7-49e2-e7e8-1a478b3d52b2"
      },
      "source": [
        "## 오른쪽부터 해당 문자를 찾지만 표현할 때?수서는 왼쪽부터 \n",
        "s.rfind('u')\n"
      ],
      "execution_count": 11,
      "outputs": [
        {
          "output_type": "execute_result",
          "data": {
            "text/plain": [
              "21"
            ]
          },
          "metadata": {
            "tags": []
          },
          "execution_count": 11
        }
      ]
    },
    {
      "cell_type": "code",
      "metadata": {
        "colab": {
          "base_uri": "https://localhost:8080/"
        },
        "id": "TA-gYFeD3WEO",
        "outputId": "8696253c-d6cf-4e14-cac7-1aa1d1297f05"
      },
      "source": [
        "s.split('e')\n"
      ],
      "execution_count": 12,
      "outputs": [
        {
          "output_type": "execute_result",
          "data": {
            "text/plain": [
              "['s', 'oul s', 'oul kor', 'a s', 'oul']"
            ]
          },
          "metadata": {
            "tags": []
          },
          "execution_count": 12
        }
      ]
    },
    {
      "cell_type": "code",
      "metadata": {
        "colab": {
          "base_uri": "https://localhost:8080/",
          "height": 35
        },
        "id": "xHEHNESB3Xgu",
        "outputId": "644fee55-e434-4a89-b179-bc7c0cb643f7"
      },
      "source": [
        "## 공백 지우기\n",
        "'  TTT  '.strip()\n"
      ],
      "execution_count": 13,
      "outputs": [
        {
          "output_type": "execute_result",
          "data": {
            "application/vnd.google.colaboratory.intrinsic+json": {
              "type": "string"
            },
            "text/plain": [
              "'TTT'"
            ]
          },
          "metadata": {
            "tags": []
          },
          "execution_count": 13
        }
      ]
    },
    {
      "cell_type": "code",
      "metadata": {
        "colab": {
          "base_uri": "https://localhost:8080/",
          "height": 35
        },
        "id": "JXmpjkmt3rzo",
        "outputId": "fbfcd30a-7f4a-4334-c81d-58aefb6b7fe9"
      },
      "source": [
        "'  TTT  '.rstrip()\n"
      ],
      "execution_count": 16,
      "outputs": [
        {
          "output_type": "execute_result",
          "data": {
            "application/vnd.google.colaboratory.intrinsic+json": {
              "type": "string"
            },
            "text/plain": [
              "'  TTT'"
            ]
          },
          "metadata": {
            "tags": []
          },
          "execution_count": 16
        }
      ]
    },
    {
      "cell_type": "code",
      "metadata": {
        "colab": {
          "base_uri": "https://localhost:8080/",
          "height": 35
        },
        "id": "IPpQrHlU3sDI",
        "outputId": "b8591805-9d9e-4a66-c73b-fd43255092bc"
      },
      "source": [
        "## 30칸을 만든 후 나머지 빈칸을 #으로 채워넣기\n",
        "s.ljust(30, '#')\n"
      ],
      "execution_count": 17,
      "outputs": [
        {
          "output_type": "execute_result",
          "data": {
            "application/vnd.google.colaboratory.intrinsic+json": {
              "type": "string"
            },
            "text/plain": [
              "'seoul seoul korea seoul#######'"
            ]
          },
          "metadata": {
            "tags": []
          },
          "execution_count": 17
        }
      ]
    },
    {
      "cell_type": "code",
      "metadata": {
        "id": "r83z0fre3ZQ2"
      },
      "source": [
        "import re"
      ],
      "execution_count": 14,
      "outputs": []
    },
    {
      "cell_type": "code",
      "metadata": {
        "colab": {
          "base_uri": "https://localhost:8080/",
          "height": 54
        },
        "id": "GdxBoe8E3fFV",
        "outputId": "4abc5871-5dfa-47d7-ec00-99b70e9f1b0d"
      },
      "source": [
        "'###'.join(s)"
      ],
      "execution_count": 15,
      "outputs": [
        {
          "output_type": "execute_result",
          "data": {
            "application/vnd.google.colaboratory.intrinsic+json": {
              "type": "string"
            },
            "text/plain": [
              "'s###e###o###u###l### ###s###e###o###u###l### ###k###o###r###e###a### ###s###e###o###u###l'"
            ]
          },
          "metadata": {
            "tags": []
          },
          "execution_count": 15
        }
      ]
    },
    {
      "cell_type": "markdown",
      "metadata": {
        "id": "wRdfPmKC5ara"
      },
      "source": [
        ""
      ]
    },
    {
      "cell_type": "markdown",
      "metadata": {
        "id": "7X43TzaS5Gwe"
      },
      "source": [
        "###파이썬 정규표현식(구글에서 검색해서 자료 읽기)\n"
      ]
    },
    {
      "cell_type": "code",
      "metadata": {
        "colab": {
          "base_uri": "https://localhost:8080/"
        },
        "id": "zDncQ2Bq3qNN",
        "outputId": "e9734619-5ddc-4634-c503-adb293d4a44c"
      },
      "source": [
        "\n",
        "jumin_number = '''\n",
        "lee 980604-1111111\n",
        "yang 961010-2222222\n",
        "park 961123-3333333\n",
        "'''\n",
        "p = re.compile('(\\d{6})[-]\\d{7}')\n",
        "print(p.sub('\\g<1>-*******', jumin_number))"
      ],
      "execution_count": 18,
      "outputs": [
        {
          "output_type": "stream",
          "text": [
            "\n",
            "lee 980604-*******\n",
            "yang 961010-*******\n",
            "park 961123-*******\n",
            "\n"
          ],
          "name": "stdout"
        }
      ]
    },
    {
      "cell_type": "code",
      "metadata": {
        "colab": {
          "base_uri": "https://localhost:8080/"
        },
        "id": "9eBCzaU94-iN",
        "outputId": "7e9140d1-63e7-4018-fdd0-6e4c64a989db"
      },
      "source": [
        "b = 'tt \\t hh \\n dd'\n",
        "print(b)"
      ],
      "execution_count": 20,
      "outputs": [
        {
          "output_type": "stream",
          "text": [
            "tt \t hh \n",
            " dd\n"
          ],
          "name": "stdout"
        }
      ]
    },
    {
      "cell_type": "code",
      "metadata": {
        "colab": {
          "base_uri": "https://localhost:8080/"
        },
        "id": "9PIjZ4f68rEf",
        "outputId": "8b23bb81-27a2-4536-80aa-1be8e638228f"
      },
      "source": [
        "b = r'tt \\t hh \\n dd'\n",
        "print(b)"
      ],
      "execution_count": 22,
      "outputs": [
        {
          "output_type": "stream",
          "text": [
            "tt \\t hh \\n dd\n"
          ],
          "name": "stdout"
        }
      ]
    },
    {
      "cell_type": "code",
      "metadata": {
        "colab": {
          "base_uri": "https://localhost:8080/"
        },
        "id": "fhgTdcxk8xat",
        "outputId": "f946b177-7f8e-4457-e042-a411bff45413"
      },
      "source": [
        "b = 'tt \\\\t hh \\\\n dd'\n",
        "print(b)"
      ],
      "execution_count": 23,
      "outputs": [
        {
          "output_type": "stream",
          "text": [
            "tt \\t hh \\n dd\n"
          ],
          "name": "stdout"
        }
      ]
    },
    {
      "cell_type": "code",
      "metadata": {
        "colab": {
          "base_uri": "https://localhost:8080/",
          "height": 137
        },
        "id": "1GdIiqz985D9",
        "outputId": "e4ec40fb-54b0-414e-aaad-41b044b97f19"
      },
      "source": [
        "import re\n",
        "p = re.compile('010|011|018)-{0,1}\\d{4}-{0,1}\\d{4}', re.VERBOSE)\n",
        "p.match(019-2343-1234)"
      ],
      "execution_count": 29,
      "outputs": [
        {
          "output_type": "error",
          "ename": "SyntaxError",
          "evalue": "ignored",
          "traceback": [
            "\u001b[0;36m  File \u001b[0;32m\"<ipython-input-29-38160d765a3c>\"\u001b[0;36m, line \u001b[0;32m3\u001b[0m\n\u001b[0;31m    p.match(019-2343-1234)\u001b[0m\n\u001b[0m              ^\u001b[0m\n\u001b[0;31mSyntaxError\u001b[0m\u001b[0;31m:\u001b[0m invalid token\n"
          ]
        }
      ]
    },
    {
      "cell_type": "code",
      "metadata": {
        "colab": {
          "base_uri": "https://localhost:8080/"
        },
        "id": "xpbWgoAq9pr9",
        "outputId": "dd1cac89-e358-4f66-e416-dfa3dd7d01de"
      },
      "source": [
        "for i in range(3):\n",
        "    my_str = input(' Enter String(영문자+숫자만 입력) : ')\n",
        "    #p = re.compile('[a-zA_Z0-9]+')\n",
        "    p = re.compile('\\w+')\n",
        "    m = p.match(my_str)\n",
        "    if m:\n",
        "        print('매칭 된 : ', m.group())\n",
        "    else:\n",
        "        print('매칭 안됨', my_str)\n",
        "        "
      ],
      "execution_count": 27,
      "outputs": [
        {
          "output_type": "stream",
          "text": [
            " Enter String(영문자+숫자만 입력) : gftgdc%%\n",
            "매칭 된 :  gftgdc\n",
            " Enter String(영문자+숫자만 입력) : lklk\n",
            "매칭 된 :  lklk\n",
            " Enter String(영문자+숫자만 입력) : khdursDwR\n",
            "매칭 된 :  khdursDwR\n"
          ],
          "name": "stdout"
        }
      ]
    },
    {
      "cell_type": "code",
      "metadata": {
        "colab": {
          "base_uri": "https://localhost:8080/"
        },
        "id": "tn_P7n_M-Zxl",
        "outputId": "ffaab203-e6df-4dd4-e5ee-94b7617e339a"
      },
      "source": [
        "## 중복해서 사용할 때\n",
        "p = re.compile('AAA|BBB|CCC')\n",
        "m = p.match('BBB-GOOD')\n",
        "m"
      ],
      "execution_count": 30,
      "outputs": [
        {
          "output_type": "execute_result",
          "data": {
            "text/plain": [
              "<re.Match object; span=(0, 3), match='BBB'>"
            ]
          },
          "metadata": {
            "tags": []
          },
          "execution_count": 30
        }
      ]
    },
    {
      "cell_type": "code",
      "metadata": {
        "colab": {
          "base_uri": "https://localhost:8080/"
        },
        "id": "azL4chtHAkEp",
        "outputId": "5f72cf24-badb-4303-fec2-79b3e988882c"
      },
      "source": [
        "## 일회용으로 사용할 때\n",
        "re.match('AAA|BBB|CCC', 'BBB-good')"
      ],
      "execution_count": 31,
      "outputs": [
        {
          "output_type": "execute_result",
          "data": {
            "text/plain": [
              "<re.Match object; span=(0, 3), match='BBB'>"
            ]
          },
          "metadata": {
            "tags": []
          },
          "execution_count": 31
        }
      ]
    },
    {
      "cell_type": "markdown",
      "metadata": {
        "id": "lovlOAIfF9mP"
      },
      "source": [
        "####매직명령어"
      ]
    },
    {
      "cell_type": "code",
      "metadata": {
        "id": "Rp7jcq7dAzEL"
      },
      "source": [
        "%hist ##이전 기록"
      ],
      "execution_count": null,
      "outputs": []
    },
    {
      "cell_type": "code",
      "metadata": {
        "colab": {
          "base_uri": "https://localhost:8080/"
        },
        "id": "pUrrB15CGCkW",
        "outputId": "1eee2b0a-eaa8-4cf6-9727-f57bdfe38876"
      },
      "source": [
        "## 파일 만들기\n",
        "%%writefile my.py\n",
        "print(' 파이썬 코딩 ')\n",
        "for i in range(5):\n",
        "    print('python good')"
      ],
      "execution_count": 33,
      "outputs": [
        {
          "output_type": "stream",
          "text": [
            "Writing my.py\n"
          ],
          "name": "stdout"
        }
      ]
    },
    {
      "cell_type": "code",
      "metadata": {
        "colab": {
          "base_uri": "https://localhost:8080/"
        },
        "id": "6zdl3yEGGWGq",
        "outputId": "7d1a6ee2-d988-43c1-cbae-d988c5fe45ca"
      },
      "source": [
        "##위에 저장 파일 보기\n",
        "!ls"
      ],
      "execution_count": 34,
      "outputs": [
        {
          "output_type": "stream",
          "text": [
            "my.py  sample_data\n"
          ],
          "name": "stdout"
        }
      ]
    },
    {
      "cell_type": "code",
      "metadata": {
        "colab": {
          "base_uri": "https://localhost:8080/"
        },
        "id": "_RMvyjY5GkZS",
        "outputId": "7ae5c0e0-2348-41ce-cff7-61473f155ea2"
      },
      "source": [
        "#외부의 파일 실행할 때\n",
        "%run my.py"
      ],
      "execution_count": 35,
      "outputs": [
        {
          "output_type": "stream",
          "text": [
            " 파이썬 코딩 \n",
            "python good\n",
            "python good\n",
            "python good\n",
            "python good\n",
            "python good\n"
          ],
          "name": "stdout"
        }
      ]
    },
    {
      "cell_type": "code",
      "metadata": {
        "colab": {
          "base_uri": "https://localhost:8080/",
          "height": 116
        },
        "id": "N6dwXZ76GnVa",
        "outputId": "9ad3ceec-afb0-4b5e-e75d-c461d526adef"
      },
      "source": [
        "%%html\n",
        "<marquee style='width: 100%; color :red; '><b>\n",
        "    파이썬은 최고야!!</b></marquee>\n",
        "    <body bcolor = blue text = ffffff><hr><BR><H2> 이누리"
      ],
      "execution_count": 37,
      "outputs": [
        {
          "output_type": "display_data",
          "data": {
            "text/html": [
              "<marquee style='width: 100%; color :red; '><b>\n",
              "    파이썬은 최고야!!</b></marquee>\n",
              "    <body bcolor = blue text = ffffff><hr><BR><H2> 이누리"
            ],
            "text/plain": [
              "<IPython.core.display.HTML object>"
            ]
          },
          "metadata": {
            "tags": []
          }
        }
      ]
    },
    {
      "cell_type": "markdown",
      "metadata": {
        "id": "xKcZRscNHr_l"
      },
      "source": [
        "##### \\n --> new line\n",
        "\\r --> carry return (다음 줄로 넘어갔을 때 커서가 앞으로 오게 만든다)"
      ]
    },
    {
      "cell_type": "markdown",
      "metadata": {
        "id": "BC9v2MGHIilO"
      },
      "source": [
        "### 코딩 컨벤션 규칙\n",
        "이름 규칙 : 변수명, 함수명, 클래스명, 전역변수\n",
        "주로 동사+명사 형태로 이름을 짓는다\n",
        "eg) DIsplayName --> camel\n",
        "display_name --> snake (파이썬에서 주로 사용)\n",
        "\n",
        "* a = 40  --> 변수에 대입은 = 연산자 좌우에 한 칸 공백 \n",
        "* disp(name=40) --> 키워드 인수는 붙여서 쓴다\\\n",
        "* 연산자나 조건문이 중복되어 혼란스러울 대는 ()로 감싼다\n",
        "* 함수간에 공백 한줄, 클래스간에 공백 두줄\n",
        "* if (조건): --> ':'는 붙여서 쓴다\n",
        "* 많은 주석보다는 의미있는 변수명, 함수명을 사용\n"
      ]
    },
    {
      "cell_type": "code",
      "metadata": {
        "id": "ykq9iopOGxZ6"
      },
      "source": [
        ""
      ],
      "execution_count": null,
      "outputs": []
    }
  ]
}