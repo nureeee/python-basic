{
  "nbformat": 4,
  "nbformat_minor": 0,
  "metadata": {
    "colab": {
      "name": "210601_복습.ipynb",
      "provenance": [],
      "authorship_tag": "ABX9TyMpZNc9K7f4X9crVbjVaskU",
      "include_colab_link": true
    },
    "kernelspec": {
      "name": "python3",
      "display_name": "Python 3"
    },
    "language_info": {
      "name": "python"
    }
  },
  "cells": [
    {
      "cell_type": "markdown",
      "metadata": {
        "id": "view-in-github",
        "colab_type": "text"
      },
      "source": [
        "<a href=\"https://colab.research.google.com/github/nureeee/python-basic/blob/python/210601_%EB%B3%B5%EC%8A%B5.ipynb\" target=\"_parent\"><img src=\"https://colab.research.google.com/assets/colab-badge.svg\" alt=\"Open In Colab\"/></a>"
      ]
    },
    {
      "cell_type": "code",
      "metadata": {
        "id": "K9qDRlOXkmYX"
      },
      "source": [
        "import numpy as np"
      ],
      "execution_count": 1,
      "outputs": []
    },
    {
      "cell_type": "code",
      "metadata": {
        "colab": {
          "base_uri": "https://localhost:8080/"
        },
        "id": "u9rZMuj9nV1G",
        "outputId": "435200f0-4e19-48fd-fd75-183e7521e03b"
      },
      "source": [
        "np.random.rand(3, 4)"
      ],
      "execution_count": 2,
      "outputs": [
        {
          "output_type": "execute_result",
          "data": {
            "text/plain": [
              "array([[0.4654068 , 0.47519356, 0.74012061, 0.70158791],\n",
              "       [0.8263215 , 0.96808276, 0.77158156, 0.87156169],\n",
              "       [0.09002669, 0.70678591, 0.73027538, 0.28639014]])"
            ]
          },
          "metadata": {
            "tags": []
          },
          "execution_count": 2
        }
      ]
    },
    {
      "cell_type": "code",
      "metadata": {
        "colab": {
          "base_uri": "https://localhost:8080/"
        },
        "id": "ruXN4LAQna18",
        "outputId": "28897e45-e297-4be2-c8a7-5d4bfcd73ff5"
      },
      "source": [
        "np.random.randn(2, 2, 3)"
      ],
      "execution_count": 3,
      "outputs": [
        {
          "output_type": "execute_result",
          "data": {
            "text/plain": [
              "array([[[-0.07173388, -1.61035986, -1.43481162],\n",
              "        [-0.70065768, -0.30076553,  0.04706464]],\n",
              "\n",
              "       [[ 0.89554122,  0.62872836, -1.29428583],\n",
              "        [-0.52735452, -1.17475735, -0.80311669]]])"
            ]
          },
          "metadata": {
            "tags": []
          },
          "execution_count": 3
        }
      ]
    },
    {
      "cell_type": "code",
      "metadata": {
        "colab": {
          "base_uri": "https://localhost:8080/"
        },
        "id": "VkhN7_wdng6s",
        "outputId": "4aba3dd3-1148-4297-9a95-98ed3bfc9756"
      },
      "source": [
        "np.random.uniform(1, 3, size=(2, 3))"
      ],
      "execution_count": 4,
      "outputs": [
        {
          "output_type": "execute_result",
          "data": {
            "text/plain": [
              "array([[2.71593113, 2.49197423, 1.65897637],\n",
              "       [2.00890489, 2.9987255 , 2.91648795]])"
            ]
          },
          "metadata": {
            "tags": []
          },
          "execution_count": 4
        }
      ]
    },
    {
      "cell_type": "code",
      "metadata": {
        "colab": {
          "base_uri": "https://localhost:8080/"
        },
        "id": "K9DUkG0MnsjM",
        "outputId": "b29b6233-af64-4fe8-a668-2d5c48926f8a"
      },
      "source": [
        "np.random.choice(10, size=(2, 3))"
      ],
      "execution_count": 5,
      "outputs": [
        {
          "output_type": "execute_result",
          "data": {
            "text/plain": [
              "array([[8, 3, 6],\n",
              "       [6, 1, 4]])"
            ]
          },
          "metadata": {
            "tags": []
          },
          "execution_count": 5
        }
      ]
    },
    {
      "cell_type": "code",
      "metadata": {
        "colab": {
          "base_uri": "https://localhost:8080/"
        },
        "id": "eB15tNdKn4fT",
        "outputId": "ce1d7993-9cc5-4b41-fc75-3771a3588ded"
      },
      "source": [
        "arr = np.arange(1, 25).reshape(4, 2, 3)\n",
        "arr"
      ],
      "execution_count": 7,
      "outputs": [
        {
          "output_type": "execute_result",
          "data": {
            "text/plain": [
              "array([[[ 1,  2,  3],\n",
              "        [ 4,  5,  6]],\n",
              "\n",
              "       [[ 7,  8,  9],\n",
              "        [10, 11, 12]],\n",
              "\n",
              "       [[13, 14, 15],\n",
              "        [16, 17, 18]],\n",
              "\n",
              "       [[19, 20, 21],\n",
              "        [22, 23, 24]]])"
            ]
          },
          "metadata": {
            "tags": []
          },
          "execution_count": 7
        }
      ]
    },
    {
      "cell_type": "code",
      "metadata": {
        "colab": {
          "base_uri": "https://localhost:8080/"
        },
        "id": "KUtyTVr3rVJ7",
        "outputId": "5c2a4047-7a72-4552-a3ea-ccc485f1ef33"
      },
      "source": [
        "np.max(arr, axis=1)"
      ],
      "execution_count": 11,
      "outputs": [
        {
          "output_type": "execute_result",
          "data": {
            "text/plain": [
              "array([[ 4,  5,  6],\n",
              "       [10, 11, 12],\n",
              "       [16, 17, 18],\n",
              "       [22, 23, 24]])"
            ]
          },
          "metadata": {
            "tags": []
          },
          "execution_count": 11
        }
      ]
    },
    {
      "cell_type": "code",
      "metadata": {
        "colab": {
          "base_uri": "https://localhost:8080/"
        },
        "id": "lYVmEEFWrb0D",
        "outputId": "80b6d7dc-cd5e-4693-ee8c-8a1ab0b3822e"
      },
      "source": [
        "arr = np.random.randint(1, 25, size=(2, 2, 3, 2))\n",
        "arr"
      ],
      "execution_count": 12,
      "outputs": [
        {
          "output_type": "execute_result",
          "data": {
            "text/plain": [
              "array([[[[23, 16],\n",
              "         [ 6, 13],\n",
              "         [18, 19]],\n",
              "\n",
              "        [[17,  6],\n",
              "         [18, 14],\n",
              "         [ 9, 12]]],\n",
              "\n",
              "\n",
              "       [[[23, 17],\n",
              "         [11,  8],\n",
              "         [10,  1]],\n",
              "\n",
              "        [[21, 18],\n",
              "         [16, 17],\n",
              "         [12, 16]]]])"
            ]
          },
          "metadata": {
            "tags": []
          },
          "execution_count": 12
        }
      ]
    },
    {
      "cell_type": "code",
      "metadata": {
        "colab": {
          "base_uri": "https://localhost:8080/"
        },
        "id": "oX69eL_Zr9JT",
        "outputId": "df8ea576-c553-4d77-9690-c780607ae584"
      },
      "source": [
        "np.min(arr, axis=1)"
      ],
      "execution_count": 17,
      "outputs": [
        {
          "output_type": "execute_result",
          "data": {
            "text/plain": [
              "array([[[17,  6],\n",
              "        [ 6, 13],\n",
              "        [ 9, 12]],\n",
              "\n",
              "       [[21, 17],\n",
              "        [11,  8],\n",
              "        [10,  1]]])"
            ]
          },
          "metadata": {
            "tags": []
          },
          "execution_count": 17
        }
      ]
    },
    {
      "cell_type": "code",
      "metadata": {
        "colab": {
          "base_uri": "https://localhost:8080/"
        },
        "id": "c3N7VyF1sETb",
        "outputId": "13562039-7a26-4949-ca90-66968b2a4f6f"
      },
      "source": [
        "np.min(arr, axis=0)"
      ],
      "execution_count": 18,
      "outputs": [
        {
          "output_type": "execute_result",
          "data": {
            "text/plain": [
              "array([[[23, 16],\n",
              "        [ 6,  8],\n",
              "        [10,  1]],\n",
              "\n",
              "       [[17,  6],\n",
              "        [16, 14],\n",
              "        [ 9, 12]]])"
            ]
          },
          "metadata": {
            "tags": []
          },
          "execution_count": 18
        }
      ]
    },
    {
      "cell_type": "code",
      "metadata": {
        "colab": {
          "base_uri": "https://localhost:8080/"
        },
        "id": "FsXXM_IitDVT",
        "outputId": "28da76a9-11b6-4595-e95e-d1b238ed3833"
      },
      "source": [
        "np.min(arr, axis=2)"
      ],
      "execution_count": 19,
      "outputs": [
        {
          "output_type": "execute_result",
          "data": {
            "text/plain": [
              "array([[[ 6, 13],\n",
              "        [ 9,  6]],\n",
              "\n",
              "       [[10,  1],\n",
              "        [12, 16]]])"
            ]
          },
          "metadata": {
            "tags": []
          },
          "execution_count": 19
        }
      ]
    },
    {
      "cell_type": "code",
      "metadata": {
        "colab": {
          "base_uri": "https://localhost:8080/"
        },
        "id": "Fv3i1VAatEyD",
        "outputId": "b871c3e5-5915-4c59-a5db-f10a679fcc51"
      },
      "source": [
        "np.min(arr, axis=3)"
      ],
      "execution_count": 20,
      "outputs": [
        {
          "output_type": "execute_result",
          "data": {
            "text/plain": [
              "array([[[16,  6, 18],\n",
              "        [ 6, 14,  9]],\n",
              "\n",
              "       [[17,  8,  1],\n",
              "        [18, 16, 12]]])"
            ]
          },
          "metadata": {
            "tags": []
          },
          "execution_count": 20
        }
      ]
    },
    {
      "cell_type": "code",
      "metadata": {
        "colab": {
          "base_uri": "https://localhost:8080/"
        },
        "id": "YvminZl_tFtb",
        "outputId": "7d1512ca-6e25-4763-84e9-37d102fbdc27"
      },
      "source": [
        "import numpy as np\n",
        "\n",
        "arr = np.array([[1, 2],\n",
        "              [3, 4]], dtype=int)\n",
        "\n",
        "new_arr = arr[:, np.newaxis]\n",
        "\n",
        "print(arr)\n",
        "\n",
        "print(new_arr)\n",
        "print(new_arr[1][0])\n",
        "print(new_arr[1][0][1])"
      ],
      "execution_count": 21,
      "outputs": [
        {
          "output_type": "stream",
          "text": [
            "[[1 2]\n",
            " [3 4]]\n",
            "[[[1 2]]\n",
            "\n",
            " [[3 4]]]\n",
            "[3 4]\n",
            "4\n"
          ],
          "name": "stdout"
        }
      ]
    },
    {
      "cell_type": "code",
      "metadata": {
        "colab": {
          "base_uri": "https://localhost:8080/"
        },
        "id": "9DigyiTYwitd",
        "outputId": "3c8a530f-35cd-48df-c33a-66945680a45a"
      },
      "source": [
        "new_arr"
      ],
      "execution_count": 22,
      "outputs": [
        {
          "output_type": "execute_result",
          "data": {
            "text/plain": [
              "array([[[1, 2]],\n",
              "\n",
              "       [[3, 4]]])"
            ]
          },
          "metadata": {
            "tags": []
          },
          "execution_count": 22
        }
      ]
    },
    {
      "cell_type": "code",
      "metadata": {
        "colab": {
          "base_uri": "https://localhost:8080/"
        },
        "id": "SXFeYHwXwlxi",
        "outputId": "5bbf5ba4-ec32-4f00-d004-e50f133c2fe2"
      },
      "source": [
        "new_arr.ndim"
      ],
      "execution_count": 24,
      "outputs": [
        {
          "output_type": "execute_result",
          "data": {
            "text/plain": [
              "3"
            ]
          },
          "metadata": {
            "tags": []
          },
          "execution_count": 24
        }
      ]
    },
    {
      "cell_type": "code",
      "metadata": {
        "id": "LkFWIMxgwqQL"
      },
      "source": [
        ""
      ],
      "execution_count": null,
      "outputs": []
    }
  ]
}