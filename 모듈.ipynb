{
 "cells": [
  {
   "cell_type": "code",
   "execution_count": 4,
   "id": "75e115a4",
   "metadata": {},
   "outputs": [],
   "source": [
    "p1 = 3.14\n",
    "\n",
    "def circle(radius):\n",
    "    return 3.14 * radius *radius\n",
    "\n",
    "def square(length):\n",
    "    return length * length\n"
   ]
  },
  {
   "cell_type": "code",
   "execution_count": 3,
   "id": "2a512538",
   "metadata": {},
   "outputs": [
    {
     "name": "stdout",
     "output_type": "stream",
     "text": [
      "12.56\n"
     ]
    }
   ],
   "source": [
    "print(circle(2))"
   ]
  },
  {
   "cell_type": "code",
   "execution_count": 5,
   "id": "d47952c4",
   "metadata": {},
   "outputs": [
    {
     "name": "stdout",
     "output_type": "stream",
     "text": [
      "9\n"
     ]
    }
   ],
   "source": [
    "print(square(3))"
   ]
  },
  {
   "cell_type": "code",
   "execution_count": 7,
   "id": "417dbb6e",
   "metadata": {},
   "outputs": [
    {
     "name": "stdout",
     "output_type": "stream",
     "text": [
      "9.8596\n"
     ]
    }
   ],
   "source": [
    "print(square(p1))"
   ]
  },
  {
   "cell_type": "code",
   "execution_count": null,
   "id": "37d19d88",
   "metadata": {},
   "outputs": [],
   "source": []
  }
 ],
 "metadata": {
  "kernelspec": {
   "display_name": "Python 3",
   "language": "python",
   "name": "python3"
  },
  "language_info": {
   "codemirror_mode": {
    "name": "ipython",
    "version": 3
   },
   "file_extension": ".py",
   "mimetype": "text/x-python",
   "name": "python",
   "nbconvert_exporter": "python",
   "pygments_lexer": "ipython3",
   "version": "3.8.8"
  }
 },
 "nbformat": 4,
 "nbformat_minor": 5
}
