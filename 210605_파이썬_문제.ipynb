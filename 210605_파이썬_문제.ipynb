{
  "nbformat": 4,
  "nbformat_minor": 0,
  "metadata": {
    "colab": {
      "name": "210605_파이썬 문제.ipynb",
      "provenance": [],
      "authorship_tag": "ABX9TyOyNHhvnsIM0p/CsNhaTFp9",
      "include_colab_link": true
    },
    "kernelspec": {
      "name": "python3",
      "display_name": "Python 3"
    },
    "language_info": {
      "name": "python"
    }
  },
  "cells": [
    {
      "cell_type": "markdown",
      "metadata": {
        "id": "view-in-github",
        "colab_type": "text"
      },
      "source": [
        "<a href=\"https://colab.research.google.com/github/nureeee/python-basic/blob/python/210605_%ED%8C%8C%EC%9D%B4%EC%8D%AC_%EB%AC%B8%EC%A0%9C.ipynb\" target=\"_parent\"><img src=\"https://colab.research.google.com/assets/colab-badge.svg\" alt=\"Open In Colab\"/></a>"
      ]
    },
    {
      "cell_type": "markdown",
      "metadata": {
        "id": "zvSSvdTcMLp2"
      },
      "source": [
        "1. 문자열로 된어 있는 숫자즐의 합 구하기"
      ]
    },
    {
      "cell_type": "code",
      "metadata": {
        "colab": {
          "base_uri": "https://localhost:8080/"
        },
        "id": "TUj4U2fmMB5R",
        "outputId": "af92ee12-ef9e-4ca8-8a67-f1b6b05cd75d"
      },
      "source": [
        "num1 = '10.3'\n",
        "num2 = '30'\n",
        "num3 = 'True'\n",
        "print(float(num1) + int(num2) + bool(num3) )"
      ],
      "execution_count": 1,
      "outputs": [
        {
          "output_type": "stream",
          "text": [
            "41.3\n"
          ],
          "name": "stdout"
        }
      ]
    },
    {
      "cell_type": "code",
      "metadata": {
        "colab": {
          "base_uri": "https://localhost:8080/"
        },
        "id": "pcD54silMjB0",
        "outputId": "789d8959-8930-4df1-89fa-510d129cad03"
      },
      "source": [
        "print(bool(num3) + 1) # 더할 때는 1의 값으로 나타난다"
      ],
      "execution_count": 4,
      "outputs": [
        {
          "output_type": "stream",
          "text": [
            "2\n"
          ],
          "name": "stdout"
        }
      ]
    },
    {
      "cell_type": "code",
      "metadata": {
        "colab": {
          "base_uri": "https://localhost:8080/"
        },
        "id": "-7KIMsmOMnvR",
        "outputId": "e670f9a1-5ccc-4656-f8b7-1234da568861"
      },
      "source": [
        "print(bool(num3)) # 그냥 프린트 하면 True가 나온다"
      ],
      "execution_count": 6,
      "outputs": [
        {
          "output_type": "stream",
          "text": [
            "True\n"
          ],
          "name": "stdout"
        }
      ]
    },
    {
      "cell_type": "markdown",
      "metadata": {
        "id": "8nuZR4R9OhzW"
      },
      "source": [
        "2. 월 48,584원에 무이자 36개월의 조건으로 홈쇼핑에서 판매. 총 금액은 계산한 후 이를 화면에 출력해보세요. (변수사용하기)"
      ]
    },
    {
      "cell_type": "code",
      "metadata": {
        "colab": {
          "base_uri": "https://localhost:8080/"
        },
        "id": "8fsRcl9jN8hU",
        "outputId": "3c430d62-e8d0-40d6-ad3f-f75312f22d4f"
      },
      "source": [
        "P = 48584\n",
        "M = 36\n",
        "print(str(P * M) + '원') #print를 할 때 str과 int는 값이 프린트 할 수 없다"
      ],
      "execution_count": 12,
      "outputs": [
        {
          "output_type": "stream",
          "text": [
            "1749024원\n"
          ],
          "name": "stdout"
        }
      ]
    },
    {
      "cell_type": "markdown",
      "metadata": {
        "id": "woY7P3ePPlYO"
      },
      "source": [
        "3. 문자열에서 첫번째와 세번째 문자열 출력"
      ]
    },
    {
      "cell_type": "code",
      "metadata": {
        "colab": {
          "base_uri": "https://localhost:8080/"
        },
        "id": "fyYQUy9FO_Ok",
        "outputId": "72aa4ea4-65c3-4784-e228-9a41a838d280"
      },
      "source": [
        "letters = 'python'\n",
        "print(letters[0] + letters[2])"
      ],
      "execution_count": 16,
      "outputs": [
        {
          "output_type": "stream",
          "text": [
            "pt\n"
          ],
          "name": "stdout"
        }
      ]
    },
    {
      "cell_type": "markdown",
      "metadata": {
        "id": "AhByxkAuQG--"
      },
      "source": [
        "license_plate = '54너 1219'\n",
        "실행 후 자동차 번호 중 뒤 네자리만 출력하세요"
      ]
    },
    {
      "cell_type": "code",
      "metadata": {
        "colab": {
          "base_uri": "https://localhost:8080/"
        },
        "id": "7Z0AH5qvP6A5",
        "outputId": "cc4b011b-a46e-4c69-d616-d5399e393a7e"
      },
      "source": [
        "license_plate = '54너 1219'\n",
        "print(license_plate[-4:])"
      ],
      "execution_count": 19,
      "outputs": [
        {
          "output_type": "stream",
          "text": [
            "1219\n"
          ],
          "name": "stdout"
        }
      ]
    },
    {
      "cell_type": "code",
      "metadata": {
        "colab": {
          "base_uri": "https://localhost:8080/"
        },
        "id": "UOFJEnyYQjRD",
        "outputId": "61e3d9a7-4f10-44c5-dff1-24e3f4b2a619"
      },
      "source": [
        "# 홀만 출력\n",
        "string = '홀짝홀짝홀짝'\n",
        "print(string[0::2])"
      ],
      "execution_count": 20,
      "outputs": [
        {
          "output_type": "stream",
          "text": [
            "홀홀홀\n"
          ],
          "name": "stdout"
        }
      ]
    },
    {
      "cell_type": "code",
      "metadata": {
        "colab": {
          "base_uri": "https://localhost:8080/",
          "height": 35
        },
        "id": "Pe9BFWajQ_aI",
        "outputId": "f2a09e81-56d6-4cdc-88e2-ed6e0af9fd48"
      },
      "source": [
        "# 하이푼 제거\n",
        "phone_n = '010-1234-5678'\n",
        "phone_n.replace('-', ' ')"
      ],
      "execution_count": 23,
      "outputs": [
        {
          "output_type": "execute_result",
          "data": {
            "application/vnd.google.colaboratory.intrinsic+json": {
              "type": "string"
            },
            "text/plain": [
              "'010 1234 5678'"
            ]
          },
          "metadata": {
            "tags": []
          },
          "execution_count": 23
        }
      ]
    },
    {
      "cell_type": "code",
      "metadata": {
        "colab": {
          "base_uri": "https://localhost:8080/",
          "height": 35
        },
        "id": "nmFZRot5RdcU",
        "outputId": "38c5f078-85c5-4262-e572-b3a730ec5f77"
      },
      "source": [
        "#소문자 a 대문자 A로 바꾸기\n",
        "str1 = 'asdfdfwafa2351a'\n",
        "str1.replace('a', 'A')"
      ],
      "execution_count": 24,
      "outputs": [
        {
          "output_type": "execute_result",
          "data": {
            "application/vnd.google.colaboratory.intrinsic+json": {
              "type": "string"
            },
            "text/plain": [
              "'AsdfdfwAfA2351A'"
            ]
          },
          "metadata": {
            "tags": []
          },
          "execution_count": 24
        }
      ]
    },
    {
      "cell_type": "code",
      "metadata": {
        "id": "_c9VHW-gR3tF"
      },
      "source": [
        ""
      ],
      "execution_count": null,
      "outputs": []
    }
  ]
}