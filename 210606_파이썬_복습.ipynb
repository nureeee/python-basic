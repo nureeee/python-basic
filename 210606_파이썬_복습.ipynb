{
  "nbformat": 4,
  "nbformat_minor": 0,
  "metadata": {
    "colab": {
      "name": "210606_파이썬 복습.ipynb",
      "provenance": [],
      "authorship_tag": "ABX9TyMWVmupwTenxjTLX8qexToG",
      "include_colab_link": true
    },
    "kernelspec": {
      "name": "python3",
      "display_name": "Python 3"
    },
    "language_info": {
      "name": "python"
    }
  },
  "cells": [
    {
      "cell_type": "markdown",
      "metadata": {
        "id": "view-in-github",
        "colab_type": "text"
      },
      "source": [
        "<a href=\"https://colab.research.google.com/github/nureeee/python-basic/blob/python/210606_%ED%8C%8C%EC%9D%B4%EC%8D%AC_%EB%B3%B5%EC%8A%B5.ipynb\" target=\"_parent\"><img src=\"https://colab.research.google.com/assets/colab-badge.svg\" alt=\"Open In Colab\"/></a>"
      ]
    },
    {
      "cell_type": "code",
      "metadata": {
        "colab": {
          "base_uri": "https://localhost:8080/",
          "height": 185
        },
        "id": "gjf_YhlfpP_p",
        "outputId": "5b0af3cb-7557-47a5-fcbc-8bd4c02b50b1"
      },
      "source": [
        "text = 'sentence'\n",
        "text[2] = 'i' "
      ],
      "execution_count": 1,
      "outputs": [
        {
          "output_type": "error",
          "ename": "TypeError",
          "evalue": "ignored",
          "traceback": [
            "\u001b[0;31m---------------------------------------------------------------------------\u001b[0m",
            "\u001b[0;31mTypeError\u001b[0m                                 Traceback (most recent call last)",
            "\u001b[0;32m<ipython-input-1-f831a09dbd2c>\u001b[0m in \u001b[0;36m<module>\u001b[0;34m()\u001b[0m\n\u001b[1;32m      1\u001b[0m \u001b[0mtext\u001b[0m \u001b[0;34m=\u001b[0m \u001b[0;34m'sentence'\u001b[0m\u001b[0;34m\u001b[0m\u001b[0;34m\u001b[0m\u001b[0m\n\u001b[0;32m----> 2\u001b[0;31m \u001b[0mtext\u001b[0m\u001b[0;34m[\u001b[0m\u001b[0;36m2\u001b[0m\u001b[0;34m]\u001b[0m \u001b[0;34m=\u001b[0m \u001b[0;34m'i'\u001b[0m\u001b[0;34m\u001b[0m\u001b[0;34m\u001b[0m\u001b[0m\n\u001b[0m",
            "\u001b[0;31mTypeError\u001b[0m: 'str' object does not support item assignment"
          ]
        }
      ]
    },
    {
      "cell_type": "code",
      "metadata": {
        "colab": {
          "base_uri": "https://localhost:8080/"
        },
        "id": "DSxZ-8Y5DGqR",
        "outputId": "38bb781f-af4d-4f9f-a2b2-a57f45d2d219"
      },
      "source": [
        "text_list = list(text)\n",
        "text_list"
      ],
      "execution_count": 2,
      "outputs": [
        {
          "output_type": "execute_result",
          "data": {
            "text/plain": [
              "['s', 'e', 'n', 't', 'e', 'n', 'c', 'e']"
            ]
          },
          "metadata": {
            "tags": []
          },
          "execution_count": 2
        }
      ]
    },
    {
      "cell_type": "code",
      "metadata": {
        "colab": {
          "base_uri": "https://localhost:8080/"
        },
        "id": "kbDqJaswDXxm",
        "outputId": "5e6a7700-5503-4ee3-8928-fa4d17efd5b3"
      },
      "source": [
        "text_list[2] = 'i'\n",
        "text_list"
      ],
      "execution_count": 3,
      "outputs": [
        {
          "output_type": "execute_result",
          "data": {
            "text/plain": [
              "['s', 'e', 'i', 't', 'e', 'n', 'c', 'e']"
            ]
          },
          "metadata": {
            "tags": []
          },
          "execution_count": 3
        }
      ]
    },
    {
      "cell_type": "code",
      "metadata": {
        "colab": {
          "base_uri": "https://localhost:8080/",
          "height": 35
        },
        "id": "21Vs_XO2DhOD",
        "outputId": "f5abe4cd-0843-4a65-be82-ad69b70f33f1"
      },
      "source": [
        "# join 하기 (split과 반대의 개념)\n",
        "''.join(text_list)"
      ],
      "execution_count": 5,
      "outputs": [
        {
          "output_type": "execute_result",
          "data": {
            "application/vnd.google.colaboratory.intrinsic+json": {
              "type": "string"
            },
            "text/plain": [
              "'seitence'"
            ]
          },
          "metadata": {
            "tags": []
          },
          "execution_count": 5
        }
      ]
    },
    {
      "cell_type": "code",
      "metadata": {
        "colab": {
          "base_uri": "https://localhost:8080/",
          "height": 35
        },
        "id": "pkUgWQdxDsav",
        "outputId": "6503f2eb-7d81-45c6-fe2b-fe6ba3200f0d"
      },
      "source": [
        "'!'.join(text_list)"
      ],
      "execution_count": 6,
      "outputs": [
        {
          "output_type": "execute_result",
          "data": {
            "application/vnd.google.colaboratory.intrinsic+json": {
              "type": "string"
            },
            "text/plain": [
              "'s!e!i!t!e!n!c!e'"
            ]
          },
          "metadata": {
            "tags": []
          },
          "execution_count": 6
        }
      ]
    },
    {
      "cell_type": "code",
      "metadata": {
        "colab": {
          "base_uri": "https://localhost:8080/",
          "height": 35
        },
        "id": "VV0GVJK9D8Qn",
        "outputId": "163685ed-d062-46d0-d28a-b722e511125d"
      },
      "source": [
        "t_list = ['밥', '국', '반찬']\n",
        "'@@'+'@'.join(t_list)"
      ],
      "execution_count": 8,
      "outputs": [
        {
          "output_type": "execute_result",
          "data": {
            "application/vnd.google.colaboratory.intrinsic+json": {
              "type": "string"
            },
            "text/plain": [
              "'@@밥@국@반찬'"
            ]
          },
          "metadata": {
            "tags": []
          },
          "execution_count": 8
        }
      ]
    },
    {
      "cell_type": "code",
      "metadata": {
        "colab": {
          "base_uri": "https://localhost:8080/",
          "height": 35
        },
        "id": "17ETQDoIEM5o",
        "outputId": "734eb936-18cc-4d0e-e23b-e534aef66a05"
      },
      "source": [
        "singer_list = ['잔나비', '이문세', '김광석']\n",
        "singer_list[0][1:] # [0, 1:]로 쓸 수 없음 ..."
      ],
      "execution_count": 11,
      "outputs": [
        {
          "output_type": "execute_result",
          "data": {
            "application/vnd.google.colaboratory.intrinsic+json": {
              "type": "string"
            },
            "text/plain": [
              "'나비'"
            ]
          },
          "metadata": {
            "tags": []
          },
          "execution_count": 11
        }
      ]
    },
    {
      "cell_type": "code",
      "metadata": {
        "colab": {
          "base_uri": "https://localhost:8080/"
        },
        "id": "q8WTzfHqEnLS",
        "outputId": "d486a401-34d5-45c5-b145-6551567ba848"
      },
      "source": [
        "a = {1, 2, 3}\n",
        "b = {2, 3, 4}\n",
        "\n",
        "print(\"'a'와 'b'의 교집합 : {}\".format(a.intersection(b)))"
      ],
      "execution_count": 12,
      "outputs": [
        {
          "output_type": "stream",
          "text": [
            "'a'와 'b'의 교집합 : {2, 3}\n"
          ],
          "name": "stdout"
        }
      ]
    },
    {
      "cell_type": "code",
      "metadata": {
        "colab": {
          "base_uri": "https://localhost:8080/"
        },
        "id": "RSJl6-6UFfZG",
        "outputId": "0c9e98ad-b6c4-4f87-f994-140bc502dd9e"
      },
      "source": [
        "print(\"a와 b의 합집합: {}\".format(a.union(b)))"
      ],
      "execution_count": 13,
      "outputs": [
        {
          "output_type": "stream",
          "text": [
            "a와 b의 합집합: {1, 2, 3, 4}\n"
          ],
          "name": "stdout"
        }
      ]
    },
    {
      "cell_type": "code",
      "metadata": {
        "colab": {
          "base_uri": "https://localhost:8080/"
        },
        "id": "4IAppwePF3yP",
        "outputId": "9c261695-ec2c-45f9-8273-2106cfcebcee"
      },
      "source": [
        "print('a와 b의 차집합: {}'.format(a.difference(b)))"
      ],
      "execution_count": 14,
      "outputs": [
        {
          "output_type": "stream",
          "text": [
            "a와 b의 차집합: {1}\n"
          ],
          "name": "stdout"
        }
      ]
    },
    {
      "cell_type": "code",
      "metadata": {
        "colab": {
          "base_uri": "https://localhost:8080/"
        },
        "id": "sog6vkdOGEUj",
        "outputId": "a71cef5a-39a1-4d7b-b5cb-63420622b55c"
      },
      "source": [
        "c = {2, 3}\n",
        "print('b는 c의 부분 집합인다? : {}'.format(b.issubset(c)))\n",
        "print('c는 c의 부분 집합인다? : {}'.format(c.issubset(c)))"
      ],
      "execution_count": 16,
      "outputs": [
        {
          "output_type": "stream",
          "text": [
            "b는 c의 부분 집합인다? : False\n",
            "c는 c의 부분 집합인다? : True\n"
          ],
          "name": "stdout"
        }
      ]
    },
    {
      "cell_type": "markdown",
      "metadata": {
        "id": "Vc-_5IKDG14b"
      },
      "source": [
        "update\n",
        "- 딕셔너리 병합 \n",
        "-  겹치는 키가 있으면 뒤에오는 것으로 덮어쓰기"
      ]
    },
    {
      "cell_type": "code",
      "metadata": {
        "id": "1VFXaQdfGegF"
      },
      "source": [
        "a = {'a': 1, 'b':2}\n",
        "b = {'c':3, 'd':4}"
      ],
      "execution_count": 17,
      "outputs": []
    },
    {
      "cell_type": "code",
      "metadata": {
        "colab": {
          "base_uri": "https://localhost:8080/"
        },
        "id": "WzeCv6IaHN0R",
        "outputId": "243b1d58-c15f-47a9-85c4-e2787041a406"
      },
      "source": [
        "a.update(b)\n",
        "print(a)"
      ],
      "execution_count": 18,
      "outputs": [
        {
          "output_type": "stream",
          "text": [
            "{'a': 1, 'b': 2, 'c': 3, 'd': 4}\n"
          ],
          "name": "stdout"
        }
      ]
    },
    {
      "cell_type": "code",
      "metadata": {
        "colab": {
          "base_uri": "https://localhost:8080/"
        },
        "id": "Tac7m3xmHUJg",
        "outputId": "9dfff6c4-3d7e-412c-a0f5-83b1f7b5e6bc"
      },
      "source": [
        "a = {'a': 1, 'b':2, 'c':3}\n",
        "print(a)"
      ],
      "execution_count": 21,
      "outputs": [
        {
          "output_type": "stream",
          "text": [
            "{'a': 1, 'b': 2, 'c': 3}\n"
          ],
          "name": "stdout"
        }
      ]
    },
    {
      "cell_type": "code",
      "metadata": {
        "colab": {
          "base_uri": "https://localhost:8080/"
        },
        "id": "4cYi1XnEHgdU",
        "outputId": "2568f3fb-b86f-4c22-bdba-5759c223af81"
      },
      "source": [
        "a.pop('b')"
      ],
      "execution_count": 22,
      "outputs": [
        {
          "output_type": "execute_result",
          "data": {
            "text/plain": [
              "2"
            ]
          },
          "metadata": {
            "tags": []
          },
          "execution_count": 22
        }
      ]
    },
    {
      "cell_type": "code",
      "metadata": {
        "id": "wBLZMThFHxBv"
      },
      "source": [
        "del a['a']"
      ],
      "execution_count": 23,
      "outputs": []
    },
    {
      "cell_type": "code",
      "metadata": {
        "colab": {
          "base_uri": "https://localhost:8080/"
        },
        "id": "Th0UMxi9H2fY",
        "outputId": "4e7f7f12-33ee-4e27-baab-df9da18c8ea0"
      },
      "source": [
        "print(a)"
      ],
      "execution_count": 24,
      "outputs": [
        {
          "output_type": "stream",
          "text": [
            "{'c': 3}\n"
          ],
          "name": "stdout"
        }
      ]
    },
    {
      "cell_type": "code",
      "metadata": {
        "id": "EshMe5LgH3_3"
      },
      "source": [
        "a.clear()"
      ],
      "execution_count": 25,
      "outputs": []
    },
    {
      "cell_type": "code",
      "metadata": {
        "colab": {
          "base_uri": "https://localhost:8080/"
        },
        "id": "C2TwIO87H7XQ",
        "outputId": "4fa93e92-e92c-4c72-d223-ccd53f8c97e4"
      },
      "source": [
        "print(a)"
      ],
      "execution_count": 26,
      "outputs": [
        {
          "output_type": "stream",
          "text": [
            "{}\n"
          ],
          "name": "stdout"
        }
      ]
    },
    {
      "cell_type": "code",
      "metadata": {
        "id": "l9JEWyQ-H8l4"
      },
      "source": [
        ""
      ],
      "execution_count": null,
      "outputs": []
    }
  ]
}