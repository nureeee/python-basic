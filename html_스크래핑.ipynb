{
  "nbformat": 4,
  "nbformat_minor": 0,
  "metadata": {
    "colab": {
      "name": "html 스크래핑.ipynb",
      "provenance": [],
      "authorship_tag": "ABX9TyM6rObIJ/12YvkI0xFOoFRy",
      "include_colab_link": true
    },
    "kernelspec": {
      "name": "python3",
      "display_name": "Python 3"
    },
    "language_info": {
      "name": "python"
    }
  },
  "cells": [
    {
      "cell_type": "markdown",
      "metadata": {
        "id": "view-in-github",
        "colab_type": "text"
      },
      "source": [
        "<a href=\"https://colab.research.google.com/github/nureeee/python-basic/blob/python/html_%EC%8A%A4%ED%81%AC%EB%9E%98%ED%95%91.ipynb\" target=\"_parent\"><img src=\"https://colab.research.google.com/assets/colab-badge.svg\" alt=\"Open In Colab\"/></a>"
      ]
    },
    {
      "cell_type": "code",
      "metadata": {
        "id": "utjmZxaM7ovn"
      },
      "source": [
        "html_str = \"\"\"\n",
        "<html>\n",
        "  <head>\n",
        "    <title>안녕하세요</title>\n",
        "  </head>\n",
        "  <body>\n",
        "    <div id=\"container\">\n",
        "      <p class='p1'>hello</p>\n",
        "      <p>Bye</p>\n",
        "    </div>\n",
        "  </body>\n",
        "</html>\"\"\""
      ],
      "execution_count": 1,
      "outputs": []
    },
    {
      "cell_type": "code",
      "metadata": {
        "id": "aFvZYHVU8F2B"
      },
      "source": [
        "from bs4 import BeautifulSoup"
      ],
      "execution_count": 2,
      "outputs": []
    },
    {
      "cell_type": "code",
      "metadata": {
        "colab": {
          "base_uri": "https://localhost:8080/"
        },
        "id": "bNh1KPFv9ihc",
        "outputId": "6769c320-4571-4541-8247-ac5ef57b3525"
      },
      "source": [
        "soup = BeautifulSoup(html_str)\n",
        "soup"
      ],
      "execution_count": 3,
      "outputs": [
        {
          "output_type": "execute_result",
          "data": {
            "text/plain": [
              "<html>\n",
              "<head>\n",
              "<title>안녕하세요</title>\n",
              "</head>\n",
              "<body>\n",
              "<div id=\"container\">\n",
              "<p class=\"p1\">hello</p>\n",
              "<p>Bye</p>\n",
              "</div>\n",
              "</body>\n",
              "</html>"
            ]
          },
          "metadata": {
            "tags": []
          },
          "execution_count": 3
        }
      ]
    },
    {
      "cell_type": "code",
      "metadata": {
        "colab": {
          "base_uri": "https://localhost:8080/"
        },
        "id": "QxTwXMUJ9oEq",
        "outputId": "ed90b0a9-d52c-4c4a-9e05-8fc09406fe96"
      },
      "source": [
        "soup.find('div', {'id':'container'}) # div 중에 id가 container인 것 찾기"
      ],
      "execution_count": 4,
      "outputs": [
        {
          "output_type": "execute_result",
          "data": {
            "text/plain": [
              "<div id=\"container\">\n",
              "<p class=\"p1\">hello</p>\n",
              "<p>Bye</p>\n",
              "</div>"
            ]
          },
          "metadata": {
            "tags": []
          },
          "execution_count": 4
        }
      ]
    },
    {
      "cell_type": "code",
      "metadata": {
        "colab": {
          "base_uri": "https://localhost:8080/"
        },
        "id": "2YudepsG-CVE",
        "outputId": "2b657b12-f39f-4f49-c99b-f69404a75219"
      },
      "source": [
        "soup.find('p', {'class':'p1'})"
      ],
      "execution_count": 5,
      "outputs": [
        {
          "output_type": "execute_result",
          "data": {
            "text/plain": [
              "<p class=\"p1\">hello</p>"
            ]
          },
          "metadata": {
            "tags": []
          },
          "execution_count": 5
        }
      ]
    },
    {
      "cell_type": "code",
      "metadata": {
        "colab": {
          "base_uri": "https://localhost:8080/"
        },
        "id": "hNvw499F-Me8",
        "outputId": "4b804663-fbdd-4a62-f8ca-a9712e8c4235"
      },
      "source": [
        "soup.find_all('p')"
      ],
      "execution_count": 8,
      "outputs": [
        {
          "output_type": "execute_result",
          "data": {
            "text/plain": [
              "[<p class=\"p1\">hello</p>, <p>Bye</p>]"
            ]
          },
          "metadata": {
            "tags": []
          },
          "execution_count": 8
        }
      ]
    },
    {
      "cell_type": "markdown",
      "metadata": {
        "id": "WJ9ohiec-SqI"
      },
      "source": [
        "텍스트 꺼내오기"
      ]
    },
    {
      "cell_type": "code",
      "metadata": {
        "colab": {
          "base_uri": "https://localhost:8080/",
          "height": 36
        },
        "id": "ax36XGMB-efH",
        "outputId": "9d6dcf75-7012-4b2d-91cd-51328c31cdcc"
      },
      "source": [
        "p_p1 = soup.find('p', {'class':'p1'})\n",
        "p_p1.text"
      ],
      "execution_count": 9,
      "outputs": [
        {
          "output_type": "execute_result",
          "data": {
            "application/vnd.google.colaboratory.intrinsic+json": {
              "type": "string"
            },
            "text/plain": [
              "'hello'"
            ]
          },
          "metadata": {
            "tags": []
          },
          "execution_count": 9
        }
      ]
    },
    {
      "cell_type": "code",
      "metadata": {
        "colab": {
          "base_uri": "https://localhost:8080/",
          "height": 36
        },
        "id": "645E3AgG-ydf",
        "outputId": "f5a6ce41-79fb-4578-8ad3-be2304b5b615"
      },
      "source": [
        "p_Bye = soup.find_all('p')[-1]\n",
        "p_Bye.text"
      ],
      "execution_count": 10,
      "outputs": [
        {
          "output_type": "execute_result",
          "data": {
            "application/vnd.google.colaboratory.intrinsic+json": {
              "type": "string"
            },
            "text/plain": [
              "'Bye'"
            ]
          },
          "metadata": {
            "tags": []
          },
          "execution_count": 10
        }
      ]
    },
    {
      "cell_type": "code",
      "metadata": {
        "colab": {
          "base_uri": "https://localhost:8080/",
          "height": 36
        },
        "id": "-V4sRgd4_EwL",
        "outputId": "1a432167-544e-4776-9bb5-4b6a321801b3"
      },
      "source": [
        "p_p1.nextSibling.nextSibling.text"
      ],
      "execution_count": 12,
      "outputs": [
        {
          "output_type": "execute_result",
          "data": {
            "application/vnd.google.colaboratory.intrinsic+json": {
              "type": "string"
            },
            "text/plain": [
              "'Bye'"
            ]
          },
          "metadata": {
            "tags": []
          },
          "execution_count": 12
        }
      ]
    },
    {
      "cell_type": "code",
      "metadata": {
        "colab": {
          "base_uri": "https://localhost:8080/"
        },
        "id": "21zZoaBn_KI1",
        "outputId": "88918fa6-f896-4ad3-f836-6561239273b5"
      },
      "source": [
        "soup"
      ],
      "execution_count": 13,
      "outputs": [
        {
          "output_type": "execute_result",
          "data": {
            "text/plain": [
              "<html>\n",
              "<head>\n",
              "<title>안녕하세요</title>\n",
              "</head>\n",
              "<body>\n",
              "<div id=\"container\">\n",
              "<p class=\"p1\">hello</p>\n",
              "<p>Bye</p>\n",
              "</div>\n",
              "</body>\n",
              "</html>"
            ]
          },
          "metadata": {
            "tags": []
          },
          "execution_count": 13
        }
      ]
    },
    {
      "cell_type": "code",
      "metadata": {
        "colab": {
          "base_uri": "https://localhost:8080/"
        },
        "id": "O0JpXH4t_52k",
        "outputId": "e6a52b59-1d4f-43e9-dfd3-69a740e786dc"
      },
      "source": [
        "soup.select_one('#container > .p1')"
      ],
      "execution_count": 14,
      "outputs": [
        {
          "output_type": "execute_result",
          "data": {
            "text/plain": [
              "<p class=\"p1\">hello</p>"
            ]
          },
          "metadata": {
            "tags": []
          },
          "execution_count": 14
        }
      ]
    },
    {
      "cell_type": "code",
      "metadata": {
        "colab": {
          "base_uri": "https://localhost:8080/"
        },
        "id": "vEVTVx8EAb2g",
        "outputId": "c579382d-6e33-47b7-ffdd-b5974ace1450"
      },
      "source": [
        "soup.select('#container > p')[-1]"
      ],
      "execution_count": 15,
      "outputs": [
        {
          "output_type": "execute_result",
          "data": {
            "text/plain": [
              "<p>Bye</p>"
            ]
          },
          "metadata": {
            "tags": []
          },
          "execution_count": 15
        }
      ]
    },
    {
      "cell_type": "code",
      "metadata": {
        "colab": {
          "base_uri": "https://localhost:8080/",
          "height": 36
        },
        "id": "UYxsmFiIApIM",
        "outputId": "21c113e4-90ac-4f35-dd96-29e7d96a5452"
      },
      "source": [
        "soup.select('#container > p')[-1].text"
      ],
      "execution_count": 17,
      "outputs": [
        {
          "output_type": "execute_result",
          "data": {
            "application/vnd.google.colaboratory.intrinsic+json": {
              "type": "string"
            },
            "text/plain": [
              "'Bye'"
            ]
          },
          "metadata": {
            "tags": []
          },
          "execution_count": 17
        }
      ]
    },
    {
      "cell_type": "markdown",
      "metadata": {
        "id": "wEPMaAseA0-v"
      },
      "source": [
        "# 속성값 추출하기"
      ]
    },
    {
      "cell_type": "code",
      "metadata": {
        "colab": {
          "base_uri": "https://localhost:8080/"
        },
        "id": "kMwARXoVBFU3",
        "outputId": "f23f17fe-3a8f-493d-d0c2-c797adca78f5"
      },
      "source": [
        "soup.select_one('.p1').get('class')\n",
        "soup.select_one('.p1')['class']"
      ],
      "execution_count": 18,
      "outputs": [
        {
          "output_type": "execute_result",
          "data": {
            "text/plain": [
              "['p1']"
            ]
          },
          "metadata": {
            "tags": []
          },
          "execution_count": 18
        }
      ]
    },
    {
      "cell_type": "code",
      "metadata": {
        "id": "MBZ94Jm_BaLu"
      },
      "source": [
        ""
      ],
      "execution_count": null,
      "outputs": []
    }
  ]
}