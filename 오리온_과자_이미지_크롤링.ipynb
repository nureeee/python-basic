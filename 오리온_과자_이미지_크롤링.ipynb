{
  "nbformat": 4,
  "nbformat_minor": 0,
  "metadata": {
    "colab": {
      "name": "오리온 과자 이미지 크롤링.ipynb",
      "provenance": [],
      "collapsed_sections": [],
      "authorship_tag": "ABX9TyMJ36bQ3ZKoA8apQ1TlTqNa",
      "include_colab_link": true
    },
    "kernelspec": {
      "name": "python3",
      "display_name": "Python 3"
    },
    "language_info": {
      "name": "python"
    }
  },
  "cells": [
    {
      "cell_type": "markdown",
      "metadata": {
        "id": "view-in-github",
        "colab_type": "text"
      },
      "source": [
        "<a href=\"https://colab.research.google.com/github/nureeee/python-basic/blob/python/%EC%98%A4%EB%A6%AC%EC%98%A8_%EA%B3%BC%EC%9E%90_%EC%9D%B4%EB%AF%B8%EC%A7%80_%ED%81%AC%EB%A1%A4%EB%A7%81.ipynb\" target=\"_parent\"><img src=\"https://colab.research.google.com/assets/colab-badge.svg\" alt=\"Open In Colab\"/></a>"
      ]
    },
    {
      "cell_type": "code",
      "metadata": {
        "id": "xFsTKhb_x4Ux"
      },
      "source": [
        "import requests\n",
        "from bs4 import BeautifulSoup\n",
        "from urllib.request import urlretrieve\n",
        "import json\n",
        "import pandas as pd"
      ],
      "execution_count": null,
      "outputs": []
    },
    {
      "cell_type": "code",
      "metadata": {
        "id": "97M6nvL2yhGj"
      },
      "source": [
        "url = 'http://www.orionworld.com/Snak/power_brand/productinfo.asp?icodeNo=6'"
      ],
      "execution_count": null,
      "outputs": []
    },
    {
      "cell_type": "code",
      "metadata": {
        "colab": {
          "base_uri": "https://localhost:8080/"
        },
        "id": "TonreBUUyzVo",
        "outputId": "c3b3a392-9438-4d49-8316-4f38a0e0c1d1"
      },
      "source": [
        "res = requests.get(url)\n",
        "res"
      ],
      "execution_count": null,
      "outputs": [
        {
          "output_type": "execute_result",
          "data": {
            "text/plain": [
              "<Response [200]>"
            ]
          },
          "metadata": {
            "tags": []
          },
          "execution_count": 3
        }
      ]
    },
    {
      "cell_type": "code",
      "metadata": {
        "colab": {
          "base_uri": "https://localhost:8080/"
        },
        "id": "S5K0uYPpyy7x",
        "outputId": "751a5ceb-a80e-44cd-df77-49ec2193f300"
      },
      "source": [
        "data = res.content\n",
        "soup = BeautifulSoup(data, 'html.parser')\n",
        "soup"
      ],
      "execution_count": null,
      "outputs": [
        {
          "output_type": "execute_result",
          "data": {
            "text/plain": [
              "\n",
              "<!DOCTYPE html PUBLIC \"-//W3C//DTD XHTML 1.0 Transitional//EN\" \"http://www.w3.org/TR/xhtml1/DTD/xhtml1-transitional.dtd\">\n",
              "\n",
              "<html lang=\"ko\" xml:lang=\"ko\" xmlns=\"http://www.w3.org/1999/xhtml\">\n",
              "<head>\n",
              "<title>Orion Power Brand - Product Info</title>\n",
              "<meta content=\"text/html;charset=utf-8\" http-equiv=\"Content-Type\"/>\n",
              "<meta content=\"IE=7\" http-equiv=\"X-UA-Compatible\"/>\n",
              "<link href=\"/style/base.css\" rel=\"stylesheet\" type=\"text/css\"/>\n",
              "<link href=\"/style/power_brand.css\" rel=\"stylesheet\" type=\"text/css\"/>\n",
              "<script src=\"/script/common.js\" type=\"text/javascript\"></script>\n",
              "</head>\n",
              "<body>\n",
              "<div id=\"container\">\n",
              "<div id=\"wrapper\">\n",
              "<!-- Header -->\n",
              "<script src=\"/js/jquery-1.7.2.min.js\" type=\"text/javascript\"></script>\n",
              "<script src=\"/js/hk.core.js\" type=\"text/javascript\"></script>\n",
              "<!-- skip menu -->\n",
              "<ul class=\"skiplist\">\n",
              "<li class=\"skip\"><a href=\"#gnbnew\">주메뉴 바로가기</a></li>\n",
              "<li class=\"skip\"><a href=\"#subContents\">본문내용으로 바로가기</a></li>\n",
              "</ul>\n",
              "<!-- //skip menu -->\n",
              "<div class=\"common_header\">\n",
              "<h1 class=\"logo\">\n",
              "<a href=\"/\"><img alt=\"ORION\" src=\"/images/common/new/logo.png\"/></a>\n",
              "</h1>\n",
              "<div class=\"util_menu\">\n",
              "<ul class=\"lang\">\n",
              "<li class=\"kr\"><a href=\"/\">Korean</a></li>\n",
              "<li class=\"en\"><a href=\"/ENG/\">English</a></li>\n",
              "</ul>\n",
              "<ul class=\"relation\">\n",
              "<li class=\"youtube\"><a href=\"https://www.youtube.com/channel/UCzK9rR-swgi7f2O_Q0vStjw/featured?disable_polymer=1\"><img alt=\"유튜브\" src=\"/images/common/new/btn_youtube.jpg\"/></a></li>\n",
              "<li class=\"instagram\"><a href=\"https://www.instagram.com/orion_world\"><img alt=\"인스타그램\" src=\"/images/common/new/btn_instagram.jpg\"/></a></li>\n",
              "<li class=\"facebook\"><a href=\"https://www.facebook.com/onlyorion\"><img alt=\"페이스북\" src=\"/images/common/new/btn_facebook.jpg\"/></a></li>\n",
              "<li class=\"blog\"><a href=\"http://blog.naver.com/orionblog\"><img alt=\"블로그\" src=\"/images/common/new/btn_blog.jpg\"/></a></li>\n",
              "<li class=\"recruit\"><a href=\"http://recruitsales.orionworld.com/\"><img alt=\"입사지원\" src=\"/images/common/new/btn_recruit.jpg\"/></a></li>\n",
              "<!-- <li class=\"post\"><a href=\"https://post.naver.com/orionblog\"><img src=\"/images/common/new/btn_post.jpg\" alt=\"포스트\"></a></li> -->\n",
              "</ul>\n",
              "</div>\n",
              "<div class=\"gnb\">\n",
              "<ul class=\"nav\">\n",
              "<li>\n",
              "<a href=\"/Snak/power_brand/productinfo.asp?icodeNo=117\"><img alt=\"New Product\" src=\"/images/common/new/gnb_m1_off.png\"/></a>\n",
              "<div class=\"sub_wrap\">\n",
              "<div class=\"wrap\">\n",
              "<ul class=\"sub_nav\">\n",
              "<li><a href=\"/Snak/power_brand/productinfo.asp?icodeNo=117\"><img alt=\"신제품/리뉴얼\" src=\"/images/common/new/gnb_m1_1_off.jpg\"/></a></li>\n",
              "</ul>\n",
              "</div>\n",
              "</div>\n",
              "</li>\n",
              "<li>\n",
              "<a href=\"/Snak/chocopie/intro.asp\"><img alt=\"Chocopie House\" src=\"/images/common/new/gnb_m2_off.png\"/></a>\n",
              "<div class=\"sub_wrap\">\n",
              "<div class=\"wrap\">\n",
              "<ul class=\"sub_nav\">\n",
              "<li><a href=\"/Snak/chocopie/product.asp\"><img alt=\"Products\" src=\"/images/common/new/gnb_m2_1_off.jpg\"/></a></li>\n",
              "<li><a href=\"/Snak/chocopie/stores.asp\"><img alt=\"Stores\" src=\"/images/common/new/gnb_m2_2_off.jpg\"/></a></li>\n",
              "</ul>\n",
              "</div>\n",
              "</div>\n",
              "</li>\n",
              "<li class=\"marketo\">\n",
              "<a href=\"/Snak/MarketO/MarketO_intro.asp\"><img alt=\"Market O\" src=\"/images/common/new/gnb_m3_off.png\"/></a>\n",
              "<div class=\"sub_wrap\">\n",
              "<div class=\"wrap\">\n",
              "<ul class=\"sub_nav\">\n",
              "<li><a href=\"/Snak/MarketO/sub01MarketO.asp\"><img alt=\"마켓오 제과\" src=\"/images/common/new/gnb_m3_1_off.jpg\"/></a></li>\n",
              "<li><a href=\"/Snak/MarketO/sub10MarketONature.asp\"><img alt=\"마켓오 네이처\" src=\"/images/common/new/gnb_m3_2_off.jpg\"/></a></li>\n",
              "<li><a href=\"http://restaurant.themarketo.com/\"><img alt=\"마켓오 레스토랑\" src=\"/images/common/new/gnb_m3_3_off.jpg\"/></a></li>\n",
              "<li><a href=\"/Snak/MarketO/sub17MarketOCafe.asp\"><img alt=\"마켓오 네이처 카페\" src=\"/images/common/new/gnb_m3_4_off.jpg\"/></a></li>\n",
              "</ul>\n",
              "</div>\n",
              "</div>\n",
              "</li>\n",
              "<li class=\"dryou\">\n",
              "<a href=\"/Snak/Dryou/sub00dryou.asp\"><img alt=\"Dr.you\" src=\"/images/common/new/gnb_m4_off.png\"/></a>\n",
              "<div class=\"sub_wrap\">\n",
              "<div class=\"wrap\">\n",
              "<ul class=\"sub_nav\">\n",
              "<!-- <li><a href=\"/Snak/Dryou/sub01diget.asp\"><img src=\"/images/common/new/gnb_m4_1_off.jpg\" alt=\"Dr.You Diget\"></a></li> -->\n",
              "<li><a href=\"/Snak/Dryou/sub02bar.asp\"><img alt=\"Dr.You BAR\" src=\"/images/common/new/gnb_m4_2_off.jpg\"/></a></li>\n",
              "<!-- <li><a href=\"/Snak/Dryou/sub03kids.asp\"><img src=\"/images/common/new/gnb_m4_3_off.jpg\" alt=\"Dr.You Cookie\"></a></li> -->\n",
              "<!-- <li><a href=\"/Snak/Dryou/sub05jelly.asp\"><img src=\"/images/common/new/gnb_m4_4_off.jpg\" alt=\"Dr.You Jelly\"></a></li> -->\n",
              "<li><a href=\"/Snak/Dryou/sub07proteinball.asp\"><img alt=\"Dr.You Protein Ball\" src=\"/images/common/new/gnb_m4_7_off.jpg\"/></a></li>\n",
              "<li><a href=\"/Snak/Dryou/sub06drink.asp\"><img alt=\"Dr.You Drink\" src=\"/images/common/new/gnb_m4_5_off.jpg\"/></a></li>\n",
              "</ul>\n",
              "</div>\n",
              "</div>\n",
              "</li>\n",
              "<li>\n",
              "<a href=\"/Snak/power_brand/productinfo.asp?icodeNo=6\"><img alt=\"ORION POWER BRAND\" src=\"/images/common/new/gnb_m5_off.png\"/></a>\n",
              "<div class=\"sub_wrap\">\n",
              "<div class=\"wrap\">\n",
              "<ul class=\"sub_nav\">\n",
              "<li><a href=\"/Snak/power_brand/productinfo.asp?icodeNo=6\"><img alt=\"Product Info\" src=\"/images/common/new/gnb_m5_1_off.jpg\"/></a></li>\n",
              "<li><a href=\"/Snak/power_brand/view_cf.asp?iCodeNo=1&amp;iAssortNo=4\"><img alt=\"CF\" src=\"/images/common/new/gnb_m5_2_off.jpg\"/></a></li>\n",
              "</ul>\n",
              "</div>\n",
              "</div>\n",
              "</li>\n",
              "<li class=\"jeju_yongamsoo\">\n",
              "<a href=\"/Snak/jeju_yongamsoo/intro.asp\"><img alt=\"Jejuyongamsoo\" src=\"/images/common/new/gnb_m6_off.png\"/></a>\n",
              "<div class=\"sub_wrap\">\n",
              "<div class=\"wrap\">\n",
              "<ul class=\"sub_nav\">\n",
              "<li><a href=\"/Snak/jeju_yongamsoo/product.asp\"><img alt=\"제품 소개\" src=\"/images/common/new/gnb_m6_1_off.jpg\"/></a></li>\n",
              "<li><a href=\"/Snak/jeju_yongamsoo/delivery.asp\"><img alt=\"가정 배송 안내\" src=\"/images/common/new/gnb_m6_2_off.jpg\"/></a></li>\n",
              "<li><a href=\"https://www.youtube.com/embed//d-gTPy4F6mw?autoplay=1\" target=\"_blank\"><img alt=\"광고 보러 가기\" src=\"/images/common/new/gnb_m6_4_off.jpg\"/></a></li>\n",
              "<!-- <li><a href=\"https://www.orionjejuyongamsoo.com\" target=\"_blank\"><img src=\"/images/common/new/gnb_m6_3_off.jpg\" alt=\"제주 용암수 공장 소개 바로가기\"></a></li> -->\n",
              "</ul>\n",
              "</div>\n",
              "</div>\n",
              "</li>\n",
              "<li>\n",
              "<a href=\"/Snak/you_n_orion/voc.asp\"><img alt=\"CUSTOMER\" src=\"/images/common/new/gnb_m7_off.png\"/></a>\n",
              "<div class=\"sub_wrap\">\n",
              "<div class=\"wrap\">\n",
              "<ul class=\"sub_nav\">\n",
              "<li><a href=\"/Snak/you_n_orion/voc.asp\"><img alt=\"고객 소리(VOC)\" src=\"/images/common/new/gnb_m7_1_off.jpg\"/></a></li>\n",
              "<li><a href=\"/Snak/you_n_orion/customer.asp\"><img alt=\"불만 접수(Claim)\" src=\"/images/common/new/gnb_m7_2_off.jpg\"/></a></li>\n",
              "<li><a href=\"/Snak/you_n_orion/event190808.asp\"><img alt=\"의견 접수(Idea)\" src=\"/images/common/new/gnb_m7_3_off.jpg\"/></a></li>\n",
              "<li><a href=\"http://open2u.orionworld.com/board/offer\" target=\"_blank\"><img alt=\"신규거래제안\" src=\"/images/common/new/gnb_m7_6_off.jpg\"/></a></li>\n",
              "<li><a href=\"/Snak/you_n_orion/faq.asp\"><img alt=\"자주 묻는 질문\" src=\"/images/common/new/gnb_m7_4_off.jpg\"/></a></li>\n",
              "<li><a href=\"/Snak/you_n_orion/branch_net_01.asp\"><img alt=\"영업소 위치\" src=\"/images/common/new/gnb_m7_5_off.jpg\"/></a></li>\n",
              "</ul>\n",
              "</div>\n",
              "</div>\n",
              "</li>\n",
              "<li>\n",
              "<a href=\"/Snak/company/orion_intro_main.asp\"><img alt=\"COMPANY\" src=\"/images/common/new/gnb_m8_off.png\"/></a>\n",
              "<div class=\"sub_wrap\">\n",
              "<div class=\"wrap\">\n",
              "<ul class=\"sub_nav\">\n",
              "<li><a href=\"/Snak/company/orion_intro_main.asp\"><img alt=\"오리온 소개\" src=\"/images/common/new/gnb_m8_1_off.jpg\"/></a></li>\n",
              "<li><a href=\"/Snak/company/orion_history_main.asp\"><img alt=\"오리온 역사관\" src=\"/images/common/new/gnb_m8_2_off.jpg\"/></a></li>\n",
              "<li><a href=\"/Snak/company/orion_business_main.asp\"><img alt=\"오리온 사업영역\" src=\"/images/common/new/gnb_m8_3_off.jpg\"/></a></li>\n",
              "<li><a href=\"/Snak/company/ir07.asp\"><img alt=\"IR정보\" src=\"/images/common/new/gnb_m8_4_off.jpg\"/></a></li>\n",
              "<li><a href=\"/Snak/company/e-press_room_list.asp\"><img alt=\"PR정보\" src=\"/images/common/new/gnb_m8_5_off.jpg\"/></a></li>\n",
              "<li><a href=\"https://orion.recruiter.co.kr/\" target=\"_blank\"><img alt=\"채용 공고\" src=\"/images/common/new/gnb_m8_6_off.jpg\"/></a></li>\n",
              "<li><a href=\"/Snak/company/contactsus.asp\"><img alt=\"오시는 길\" src=\"/images/common/new/gnb_m8_7_off.jpg\"/></a></li>\n",
              "</ul>\n",
              "</div>\n",
              "</div>\n",
              "</li>\n",
              "</ul>\n",
              "</div>\n",
              "</div>\n",
              "<script type=\"text/javascript\">\n",
              "<!--\n",
              "var message = \"\";\n",
              "function clickIE() {\n",
              "\tif (document.all) {\n",
              "\t\t(message);\n",
              "\t\treturn false;\n",
              "\t}\n",
              "}\n",
              "\n",
              "function clickNS(e) {\n",
              "\tif (document.layers || (document.getElementById && !document.all)) {\n",
              "\t\tif (e.which == 1 || e.which == 2 || e.which == 3) {\n",
              "\t\t\t(message);\n",
              "\t\t\treturn false;\n",
              "\t\t}\n",
              "\t}\n",
              "}\n",
              "if (document.layers) {\n",
              "\tdocument.captureEvents(Event.MOUSEDOWN);\n",
              "\tdocument.onmousedown = clickNS;\n",
              "} else {\n",
              "\tdocument.onmouseup = clickNS;\n",
              "\tdocument.oncontextmenu = clickIE;\n",
              "}\n",
              "//-->\n",
              "</script>\n",
              "<!-- //Header -->\n",
              "<!-- Contents Body -->\n",
              "<div id=\"contentsBody\">\n",
              "<!-- Sub Side -->\n",
              "<script src=\"/script/jquery-1.7.1.min.js\" type=\"text/javascript\"></script>\n",
              "<script src=\"/script/hk.core.js\" type=\"text/javascript\"></script>\n",
              "<div id=\"subSide\">\n",
              "<div id=\"snb_wrap\" style=\"background:url('/images/common/left_top01_bg.png') no-repeat top;\">\n",
              "<div class=\"snb_in\">\n",
              "<div class=\"nav_wrap\">\n",
              "<ul class=\"nav\">\n",
              "<li class=\"sub\"><span><a href=\"/Snak/power_brand/productinfo.asp?icodeNo=6\"><img alt=\"Product Info\" src=\"/images/common/lmenu_01.png\"/></a></span>\n",
              "<ul class=\"twot\">\n",
              "<li><a href=\"/Snak/power_brand/productinfo.asp?icodeNo=6\"><img alt=\"파이류\" src=\"/images/common/lmenu_sub_01.png\"/></a></li>\n",
              "<li><a href=\"/Snak/power_brand/productinfo.asp?icodeNo=5\"><img alt=\"스낵류\" src=\"/images/common/lmenu_sub_02.png\"/></a></li>\n",
              "<li><a href=\"/Snak/power_brand/productinfo.asp?icodeNo=1\"><img alt=\"비스킷류\" src=\"/images/common/lmenu_sub_03.png\"/></a></li>\n",
              "<li><a href=\"/Snak/power_brand/productinfo.asp?icodeNo=3\"><img alt=\"껌류\" src=\"/images/common/lmenu_sub_04.png\"/></a></li>\n",
              "<li><a href=\"/Snak/power_brand/productinfo.asp?icodeNo=4\"><img alt=\"캔디류\" src=\"/images/common/lmenu_sub_05.png\"/></a></li>\n",
              "<li><a href=\"/Snak/power_brand/productinfo.asp?icodeNo=2\"><img alt=\"초콜렛류\" src=\"/images/common/lmenu_sub_06.png\"/></a></li>\n",
              "</ul>\n",
              "</li>\n",
              "<li class=\"sub\"><span><a href=\"/Snak/power_brand/view_cf.asp?iCodeNo=1&amp;iAssortNo=4\"><img alt=\"CF\" src=\"/images/common/lmenu_02.png\"/></a></span>\n",
              "<ul class=\"twot\">\n",
              "<li><a href=\"/Snak/power_brand/view_cf.asp?iCodeNo=1&amp;iAssortNo=4\"><img alt=\"오리온CF\" src=\"/images//common/lmenu_sub_07.png\"/></a></li>\n",
              "<li><a href=\"/Snak/power_brand/view_cf.asp?iCodeNo=1&amp;iAssortNo=5\"><img alt=\"초코파이CF\" src=\"/images//common/lmenu_sub_08.png\"/></a></li>\n",
              "</ul>\n",
              "</li>\n",
              "</ul>\n",
              "</div>\n",
              "</div>\n",
              "</div>\n",
              "</div>\n",
              "<!-- 임시 맵 -->\n",
              "<!-- <map id=\"LNB\" name=\"LNB\">\n",
              "\t<area shape=\"rect\" coords=\"10,90,88,112\" href=\"brand_story01.asp\" alt=\"초코파이\" />\n",
              "\t<area shape=\"rect\" coords=\"10,114,89,133\" href=\"brand_story02.asp\" alt=\"포카칩\" />\n",
              "\t<area shape=\"rect\" coords=\"9,136,91,154\" href=\"brand_story03.asp\" alt=\"스윙칩\" />\n",
              "\t<area shape=\"rect\" coords=\"9,155,92,172\" href=\"brand_story04.asp\" alt=\"오징어땅콩\" />\n",
              "\t<area shape=\"rect\" coords=\"8,174,92,193\" href=\"brand_story05.asp\" alt=\"고래밥\" />\n",
              "\t<area shape=\"rect\" coords=\"9,194,91,214\" href=\"brand_story06.asp\" alt=\"고소미\" />\n",
              "\t<area shape=\"rect\" coords=\"10,216,92,235\" href=\"brand_story07.asp\" alt=\"오!감자\" />\n",
              "\t<area shape=\"rect\" coords=\"10,237,98,255\" href=\"brand_story08.asp\" alt=\"초코칩\" />\n",
              "\t<area shape=\"rect\" coords=\"9,297,74,321\" href=\"new_product01.asp\" alt=\"신제품\" />\n",
              "\t<area shape=\"rect\" coords=\"6,321,73,340\" href=\"pie_type.asp\" alt=\"파이류\" />\n",
              "\t<area shape=\"rect\" coords=\"10,341,78,362\" href=\"snack_type.asp\" alt=\"스낵류\" />\n",
              "\t<area shape=\"rect\" coords=\"10,363,83,382\" href=\"biscuit_type.asp\" alt=\"비스킷류\" />\n",
              "\t<area shape=\"rect\" coords=\"9,383,92,402\" href=\"gum_type.asp\" alt=\"껌류\" />\n",
              "\t<area shape=\"rect\" coords=\"8,403,94,423\" href=\"candy_type.asp\" alt=\"캔디류\" />\n",
              "\t<area shape=\"rect\" coords=\"7,425,93,444\" href=\"chocolate_type.asp\" alt=\"초콜렛류\" />\n",
              "\t<area shape=\"rect\" coords=\"12,491,89,511\" href=\"view_cf.asp\" alt=\"CF보기\" />\n",
              "\t<area shape=\"rect\" coords=\"11,512,153,536\" href=\"wallpaper.asp\" alt=\"WallPaper & ScreenSaver\" />\n",
              "</map>\n",
              " -->\n",
              "<!-- //Sub Side -->\n",
              "<!-- Sub Contents -->\n",
              "<div id=\"subContents\">\n",
              "<div class=\"subTitleArea\">\n",
              "<h3>\n",
              "<img alt=\"파이류\" src=\"/images/power_brand/subtit_pie_type.gif\">\n",
              "<!-- <a style=\"margin-left:10px;\" href=\"http://blog.orionworld.com/\" target=\"_blank\"><img src=\"/images/icon/btnBlog.png\" alt=\"블로그\" /></a>\n",
              "\t\t\t\t\t\t\t<a style=\"margin-left:1px;\" href=\"https://www.facebook.com/onlyorion\" target=\"_blank\"><img src=\"/images/icon/btnFacebook.png\" alt=\"페이스북\" /></a>\n",
              "\t\t\t\t\t\t\t<a style=\"margin-left:1px;\" href=\"https://www.instagram.com/orion_world/\" target=\"_blink\"><img src=\"/images/marketO/btnInstar.png\" alt=\"마켓오 인스타그램\" /></a> -->\n",
              "</img></h3>\n",
              "<div class=\"location\">\n",
              "\n",
              "\n",
              "\t\t\t\t\t\t\tHome &gt; Orion Power Brand &gt; Product Info  &gt; \n",
              "\t\t\t\t\t\t\t파이류\n",
              "\t\t\t\t\t\t</div>\n",
              "</div>\n",
              "<div class=\"typeList\">\n",
              "<!-- type list line -->\n",
              "<div class=\"typeListLine\">\n",
              "<dl class=\"typeListSet\">\n",
              "<dt><a href=\"type_view.asp?iCodeNo=6&amp;iSerialNo=98\">\n",
              "<img alt=\"오리온 초코파이情\" height=\"127\" src=\"/DATA/Goods/s_0001.gif\" width=\"125\"/></a>\n",
              "</dt>\n",
              "<dd class=\"prodTitle\">오리온 초코파이情</dd>\n",
              "<dd class=\"prodIntro\">\n",
              "<a href=\"type_view.asp?iCodeNo=6&amp;iSerialNo=98\"><img alt=\"제품소개\" src=\"/images/button/product_intro.gif\"/></a>\n",
              "</dd>\n",
              "</dl>\n",
              "<dl class=\"typeListSet\">\n",
              "<dt><a href=\"type_view.asp?iCodeNo=6&amp;iSerialNo=1015\">\n",
              "<img alt=\"초코파이情 바나나\" height=\"127\" src=\"/DATA/Goods/125_127[12].jpg\" width=\"125\"/></a>\n",
              "</dt>\n",
              "<dd class=\"prodTitle\">초코파이情 바나나</dd>\n",
              "<dd class=\"prodIntro\">\n",
              "<a href=\"type_view.asp?iCodeNo=6&amp;iSerialNo=1015\"><img alt=\"제품소개\" src=\"/images/button/product_intro.gif\"/></a>\n",
              "</dd>\n",
              "</dl>\n",
              "<dl class=\"typeListSet\">\n",
              "<dt><a href=\"type_view.asp?iCodeNo=6&amp;iSerialNo=1148\">\n",
              "<img alt=\"호떡 품은 참붕어빵\" height=\"127\" src=\"/DATA/Goods/125_127[88].jpg\" width=\"125\"/></a>\n",
              "</dt>\n",
              "<dd class=\"prodTitle\">호떡 품은 참붕어빵</dd>\n",
              "<dd class=\"prodIntro\">\n",
              "<a href=\"type_view.asp?iCodeNo=6&amp;iSerialNo=1148\"><img alt=\"제품소개\" src=\"/images/button/product_intro.gif\"/></a>\n",
              "</dd>\n",
              "</dl>\n",
              "<dl class=\"typeListSet end\">\n",
              "<dt><a href=\"type_view.asp?iCodeNo=6&amp;iSerialNo=1064\">\n",
              "<img alt=\"찰초코파이情\" height=\"127\" src=\"/DATA/Goods/125_127[31].jpg\" width=\"125\"/></a>\n",
              "</dt>\n",
              "<dd class=\"prodTitle\">찰초코파이情</dd>\n",
              "<dd class=\"prodIntro\">\n",
              "<a href=\"type_view.asp?iCodeNo=6&amp;iSerialNo=1064\"><img alt=\"제품소개\" src=\"/images/button/product_intro.gif\"/></a>\n",
              "</dd>\n",
              "</dl>\n",
              "</div>\n",
              "<div class=\"typeListLine\">\n",
              "<dl class=\"typeListSet\">\n",
              "<dt><a href=\"type_view.asp?iCodeNo=6&amp;iSerialNo=916\">\n",
              "<img alt=\"후레쉬베리\" height=\"127\" src=\"/DATA/Goods/125_127[57].png\" width=\"125\"/></a>\n",
              "</dt>\n",
              "<dd class=\"prodTitle\">후레쉬베리</dd>\n",
              "<dd class=\"prodIntro\">\n",
              "<a href=\"type_view.asp?iCodeNo=6&amp;iSerialNo=916\"><img alt=\"제품소개\" src=\"/images/button/product_intro.gif\"/></a>\n",
              "</dd>\n",
              "</dl>\n",
              "<dl class=\"typeListSet\">\n",
              "<dt><a href=\"type_view.asp?iCodeNo=6&amp;iSerialNo=582\">\n",
              "<img alt=\"참붕어빵\" height=\"127\" src=\"/DATA/Goods/ch_s.gif\" width=\"125\"/></a>\n",
              "</dt>\n",
              "<dd class=\"prodTitle\">참붕어빵</dd>\n",
              "<dd class=\"prodIntro\">\n",
              "<a href=\"type_view.asp?iCodeNo=6&amp;iSerialNo=582\"><img alt=\"제품소개\" src=\"/images/button/product_intro.gif\"/></a>\n",
              "</dd>\n",
              "</dl>\n",
              "<dl class=\"typeListSet\">\n",
              "<dt><a href=\"type_view.asp?iCodeNo=6&amp;iSerialNo=622\">\n",
              "<img alt=\"카스타드\" height=\"127\" src=\"/DATA/Goods/125_127_커스타드_.png\" width=\"125\"/></a>\n",
              "</dt>\n",
              "<dd class=\"prodTitle\">카스타드</dd>\n",
              "<dd class=\"prodIntro\">\n",
              "<a href=\"type_view.asp?iCodeNo=6&amp;iSerialNo=622\"><img alt=\"제품소개\" src=\"/images/button/product_intro.gif\"/></a>\n",
              "</dd>\n",
              "</dl>\n",
              "<dl class=\"typeListSet end\">\n",
              "<dt><a href=\"type_view.asp?iCodeNo=6&amp;iSerialNo=100\">\n",
              "<img alt=\"케익오뜨\" height=\"127\" src=\"/DATA/Goods/125_127[7].png\" width=\"125\"/></a>\n",
              "</dt>\n",
              "<dd class=\"prodTitle\">케익오뜨</dd>\n",
              "<dd class=\"prodIntro\">\n",
              "<a href=\"type_view.asp?iCodeNo=6&amp;iSerialNo=100\"><img alt=\"제품소개\" src=\"/images/button/product_intro.gif\"/></a>\n",
              "</dd>\n",
              "</dl>\n",
              "</div>\n",
              "<!-- //type list line -->\n",
              "</div>\n",
              "</div>\n",
              "<!-- //Sub Contents -->\n",
              "</div>\n",
              "<!-- //Contents Body -->\n",
              "</div>\n",
              "<!-- Footer -->\n",
              "<div id=\"footerWrap\">\n",
              "<div id=\"footer\">\n",
              "<h2 class=\"hidden\">하단메뉴</h2>\n",
              "<!-- footer menu -->\n",
              "<ul class=\"footerMenu\">\n",
              "<li><a href=\"#\" onclick=\"footerPop(1); return false;\" title=\"[팝업]\"><img alt=\"법적고지\" src=\"/images/common/footer_menu01.gif\"/></a></li>\n",
              "<li><a href=\"#\" onclick=\"footerPop(3); return false;\" title=\"[팝업]\"><img alt=\"개인정보취급방침\" src=\"/images/common/footer_menu03.gif\"/></a></li>\n",
              "<li style=\"background:none\"><a href=\"#\" onclick=\"footerPop(4); return false;\" title=\"[팝업]\"><img alt=\"이메일주소수집거부\" src=\"/images/common/footer_menu04.gif\"/></a></li>\n",
              "<!-- <li><a href=\"/snak/footer/pop_legal_notice.asp\" target=\"_blank\" title=\"제휴문의[팝업]\" onclick=\"window.open(this.href, 'popLegal', 'width=600, height=460, left=300, top=200'); return false;\"><img src=\"/images/button/footer_menu01.gif\" alt=\"제휴문의\" /></a></li>\n",
              "\t\t\t<li><a href=\"/snak/footer/pop_user_guide.asp\" target=\"_blank\" title=\"이용안내[팝업]\" onclick=\"window.open(this.href, 'popPrivacy', 'width=600, height=654, left=300, top=200'); return false;\"><img src=\"/images/button/footer_menu02.gif\" alt=\"이용안내\" /></a></li>\n",
              "\t\t\t<li><a href=\"/snak/members/pop_privacy.asp\" target=\"_blank\" title=\"개인정보취급방침[팝업]\" onclick=\"window.open(this.href, 'popPrivacy', 'width=600, height=654, left=300, top=200'); return false;\"><img src=\"/images/button/footer_menu03.gif\" alt=\"개인정보취급방침\" /></a></li>\n",
              "\t\t\t<li class=\"end\"><a href=\"/snak/footer/pop_forbid_colleting_email.asp\" target=\"_blank\" title=\"이메일주소수집거부[팝업]\" onclick=\"window.open(this.href, 'popEmail', 'width=600, height=347, left=300, top=200'); return false;\"><img src=\"/images/button/footer_menu04.gif\" alt=\"이메일주소수집거부 \" /></a></li>\n",
              "\t\t\t -->\n",
              "</ul>\n",
              "<!-- //footer menu -->\n",
              "<ul class=\"footerMenu2\">\n",
              "<li><img alt=\"서울시 용산구 백범로 90다길 13 / 전화번호 : 02-710-6000 / 상담실 : 080-023-5700 (수신자 부담) / 제품 구입 문의 : 02-710-6083 orionmaster@orionworld.com\" src=\"/images/common/address.gif\"/></li>\n",
              "<li><img alt=\"오리온 Website 는  internet Explorer 8. 9 버젼에 최적화 되어 있습니다. \" src=\"/images/common/footer_explorer.png\"/></li>\n",
              "<li><img alt=\"COPYRIGHT ORION CORP. ALL RIGHT RESERVED.\" src=\"/images/common/copyright.gif\"/></li>\n",
              "<!-- 인증서아이콘 <li><a href=\"http://www.crosscert.com/seal/orionworld.files/slide0001.htm\" target=\"_blank\" title=\"[새창]\" style=\"position:relative; top:-20px; left:20px\"><img src=\"/images/common/injeung.gif\" class=\"ssil\" alt=\"보안인증씰\" /></a></li>-->\n",
              "</ul>\n",
              "</div>\n",
              "</div>\n",
              "<script type=\"text/javascript\">\n",
              "<!--\n",
              "\tvar smartPhones = [\n",
              "\t\t'iphone', 'ipod','ipad',\n",
              "\t\t'windows ce',\n",
              "\t\t'android', 'blackberry',\n",
              "\t\t'nokia', 'webos',\n",
              "\t\t'opera mini', 'sonyerricsson',\n",
              "\t\t'opera mobi', 'iemobile'\n",
              "\t];\n",
              "\n",
              "\tfor (var i in smartPhones){\n",
              "\t\t// 스마트폰 확인\n",
              "\t\tif(navigator.userAgent.toLowerCase().match(new RegExp(smartPhones[i]))){\n",
              "\t\t\t$(\"#wrapper\").css(\"overflow\",\"hidden\").css(\"padding\",\"0 50px\");\n",
              "\t\t\t$(\"#footerWrap\").css(\"width\",$(document).width());\n",
              "\t\t}\n",
              "\t}\n",
              "//-->\n",
              "</script>\n",
              "<!-- //Footer -->\n",
              "</div>\n",
              "</body>\n",
              "</html>"
            ]
          },
          "metadata": {
            "tags": []
          },
          "execution_count": 4
        }
      ]
    },
    {
      "cell_type": "code",
      "metadata": {
        "colab": {
          "base_uri": "https://localhost:8080/"
        },
        "id": "dSskgliqz88m",
        "outputId": "b7c1d384-86c7-4594-e633-f66b5ccbf57e"
      },
      "source": [
        "snack_imgs = soup.select_one('#subContents > div.typeList')\n",
        "snack_imgs "
      ],
      "execution_count": null,
      "outputs": [
        {
          "output_type": "execute_result",
          "data": {
            "text/plain": [
              "<div class=\"typeList\">\n",
              "<!-- type list line -->\n",
              "<div class=\"typeListLine\">\n",
              "<dl class=\"typeListSet\">\n",
              "<dt><a href=\"type_view.asp?iCodeNo=6&amp;iSerialNo=98\">\n",
              "<img alt=\"오리온 초코파이情\" height=\"127\" src=\"/DATA/Goods/s_0001.gif\" width=\"125\"/></a>\n",
              "</dt>\n",
              "<dd class=\"prodTitle\">오리온 초코파이情</dd>\n",
              "<dd class=\"prodIntro\">\n",
              "<a href=\"type_view.asp?iCodeNo=6&amp;iSerialNo=98\"><img alt=\"제품소개\" src=\"/images/button/product_intro.gif\"/></a>\n",
              "</dd>\n",
              "</dl>\n",
              "<dl class=\"typeListSet\">\n",
              "<dt><a href=\"type_view.asp?iCodeNo=6&amp;iSerialNo=1015\">\n",
              "<img alt=\"초코파이情 바나나\" height=\"127\" src=\"/DATA/Goods/125_127[12].jpg\" width=\"125\"/></a>\n",
              "</dt>\n",
              "<dd class=\"prodTitle\">초코파이情 바나나</dd>\n",
              "<dd class=\"prodIntro\">\n",
              "<a href=\"type_view.asp?iCodeNo=6&amp;iSerialNo=1015\"><img alt=\"제품소개\" src=\"/images/button/product_intro.gif\"/></a>\n",
              "</dd>\n",
              "</dl>\n",
              "<dl class=\"typeListSet\">\n",
              "<dt><a href=\"type_view.asp?iCodeNo=6&amp;iSerialNo=1148\">\n",
              "<img alt=\"호떡 품은 참붕어빵\" height=\"127\" src=\"/DATA/Goods/125_127[88].jpg\" width=\"125\"/></a>\n",
              "</dt>\n",
              "<dd class=\"prodTitle\">호떡 품은 참붕어빵</dd>\n",
              "<dd class=\"prodIntro\">\n",
              "<a href=\"type_view.asp?iCodeNo=6&amp;iSerialNo=1148\"><img alt=\"제품소개\" src=\"/images/button/product_intro.gif\"/></a>\n",
              "</dd>\n",
              "</dl>\n",
              "<dl class=\"typeListSet end\">\n",
              "<dt><a href=\"type_view.asp?iCodeNo=6&amp;iSerialNo=1064\">\n",
              "<img alt=\"찰초코파이情\" height=\"127\" src=\"/DATA/Goods/125_127[31].jpg\" width=\"125\"/></a>\n",
              "</dt>\n",
              "<dd class=\"prodTitle\">찰초코파이情</dd>\n",
              "<dd class=\"prodIntro\">\n",
              "<a href=\"type_view.asp?iCodeNo=6&amp;iSerialNo=1064\"><img alt=\"제품소개\" src=\"/images/button/product_intro.gif\"/></a>\n",
              "</dd>\n",
              "</dl>\n",
              "</div>\n",
              "<div class=\"typeListLine\">\n",
              "<dl class=\"typeListSet\">\n",
              "<dt><a href=\"type_view.asp?iCodeNo=6&amp;iSerialNo=916\">\n",
              "<img alt=\"후레쉬베리\" height=\"127\" src=\"/DATA/Goods/125_127[57].png\" width=\"125\"/></a>\n",
              "</dt>\n",
              "<dd class=\"prodTitle\">후레쉬베리</dd>\n",
              "<dd class=\"prodIntro\">\n",
              "<a href=\"type_view.asp?iCodeNo=6&amp;iSerialNo=916\"><img alt=\"제품소개\" src=\"/images/button/product_intro.gif\"/></a>\n",
              "</dd>\n",
              "</dl>\n",
              "<dl class=\"typeListSet\">\n",
              "<dt><a href=\"type_view.asp?iCodeNo=6&amp;iSerialNo=582\">\n",
              "<img alt=\"참붕어빵\" height=\"127\" src=\"/DATA/Goods/ch_s.gif\" width=\"125\"/></a>\n",
              "</dt>\n",
              "<dd class=\"prodTitle\">참붕어빵</dd>\n",
              "<dd class=\"prodIntro\">\n",
              "<a href=\"type_view.asp?iCodeNo=6&amp;iSerialNo=582\"><img alt=\"제품소개\" src=\"/images/button/product_intro.gif\"/></a>\n",
              "</dd>\n",
              "</dl>\n",
              "<dl class=\"typeListSet\">\n",
              "<dt><a href=\"type_view.asp?iCodeNo=6&amp;iSerialNo=622\">\n",
              "<img alt=\"카스타드\" height=\"127\" src=\"/DATA/Goods/125_127_커스타드_.png\" width=\"125\"/></a>\n",
              "</dt>\n",
              "<dd class=\"prodTitle\">카스타드</dd>\n",
              "<dd class=\"prodIntro\">\n",
              "<a href=\"type_view.asp?iCodeNo=6&amp;iSerialNo=622\"><img alt=\"제품소개\" src=\"/images/button/product_intro.gif\"/></a>\n",
              "</dd>\n",
              "</dl>\n",
              "<dl class=\"typeListSet end\">\n",
              "<dt><a href=\"type_view.asp?iCodeNo=6&amp;iSerialNo=100\">\n",
              "<img alt=\"케익오뜨\" height=\"127\" src=\"/DATA/Goods/125_127[7].png\" width=\"125\"/></a>\n",
              "</dt>\n",
              "<dd class=\"prodTitle\">케익오뜨</dd>\n",
              "<dd class=\"prodIntro\">\n",
              "<a href=\"type_view.asp?iCodeNo=6&amp;iSerialNo=100\"><img alt=\"제품소개\" src=\"/images/button/product_intro.gif\"/></a>\n",
              "</dd>\n",
              "</dl>\n",
              "</div>\n",
              "<!-- //type list line -->\n",
              "</div>"
            ]
          },
          "metadata": {
            "tags": []
          },
          "execution_count": 5
        }
      ]
    },
    {
      "cell_type": "code",
      "metadata": {
        "colab": {
          "base_uri": "https://localhost:8080/"
        },
        "id": "jWj3-1mq3Wxw",
        "outputId": "9b8a2efb-d71a-479d-f07c-d81b0cae005f"
      },
      "source": [
        "snack_imgs_list = snack_imgs.select('img')\n",
        "snack_imgs_list"
      ],
      "execution_count": null,
      "outputs": [
        {
          "output_type": "execute_result",
          "data": {
            "text/plain": [
              "[<img alt=\"오리온 초코파이情\" height=\"127\" src=\"/DATA/Goods/s_0001.gif\" width=\"125\"/>,\n",
              " <img alt=\"제품소개\" src=\"/images/button/product_intro.gif\"/>,\n",
              " <img alt=\"초코파이情 바나나\" height=\"127\" src=\"/DATA/Goods/125_127[12].jpg\" width=\"125\"/>,\n",
              " <img alt=\"제품소개\" src=\"/images/button/product_intro.gif\"/>,\n",
              " <img alt=\"호떡 품은 참붕어빵\" height=\"127\" src=\"/DATA/Goods/125_127[88].jpg\" width=\"125\"/>,\n",
              " <img alt=\"제품소개\" src=\"/images/button/product_intro.gif\"/>,\n",
              " <img alt=\"찰초코파이情\" height=\"127\" src=\"/DATA/Goods/125_127[31].jpg\" width=\"125\"/>,\n",
              " <img alt=\"제품소개\" src=\"/images/button/product_intro.gif\"/>,\n",
              " <img alt=\"후레쉬베리\" height=\"127\" src=\"/DATA/Goods/125_127[57].png\" width=\"125\"/>,\n",
              " <img alt=\"제품소개\" src=\"/images/button/product_intro.gif\"/>,\n",
              " <img alt=\"참붕어빵\" height=\"127\" src=\"/DATA/Goods/ch_s.gif\" width=\"125\"/>,\n",
              " <img alt=\"제품소개\" src=\"/images/button/product_intro.gif\"/>,\n",
              " <img alt=\"카스타드\" height=\"127\" src=\"/DATA/Goods/125_127_커스타드_.png\" width=\"125\"/>,\n",
              " <img alt=\"제품소개\" src=\"/images/button/product_intro.gif\"/>,\n",
              " <img alt=\"케익오뜨\" height=\"127\" src=\"/DATA/Goods/125_127[7].png\" width=\"125\"/>,\n",
              " <img alt=\"제품소개\" src=\"/images/button/product_intro.gif\"/>]"
            ]
          },
          "metadata": {
            "tags": []
          },
          "execution_count": 6
        }
      ]
    },
    {
      "cell_type": "code",
      "metadata": {
        "colab": {
          "base_uri": "https://localhost:8080/",
          "height": 36
        },
        "id": "g4akiHjI3lSo",
        "outputId": "29644e60-4e7e-44ca-b5b1-b5f3400a31a4"
      },
      "source": [
        "snack_imgs_list[0]['src']"
      ],
      "execution_count": null,
      "outputs": [
        {
          "output_type": "execute_result",
          "data": {
            "application/vnd.google.colaboratory.intrinsic+json": {
              "type": "string"
            },
            "text/plain": [
              "'/DATA/Goods/s_0001.gif'"
            ]
          },
          "metadata": {
            "tags": []
          },
          "execution_count": 7
        }
      ]
    },
    {
      "cell_type": "code",
      "metadata": {
        "colab": {
          "base_uri": "https://localhost:8080/"
        },
        "id": "BwaR9ETk3pLP",
        "outputId": "e582de53-f4e2-4e57-d0fb-7771672536be"
      },
      "source": [
        "print('https://www.orionworld.com' + snack_imgs_list[0]['src'])\n",
        "print('https://www.orionworld.com' + snack_imgs_list[1]['src'])"
      ],
      "execution_count": null,
      "outputs": [
        {
          "output_type": "stream",
          "text": [
            "https://www.orionworld.com/DATA/Goods/s_0001.gif\n",
            "https://www.orionworld.com/images/button/product_intro.gif\n"
          ],
          "name": "stdout"
        }
      ]
    },
    {
      "cell_type": "code",
      "metadata": {
        "colab": {
          "base_uri": "https://localhost:8080/"
        },
        "id": "F7yb1Np83teY",
        "outputId": "77f9c249-8d3a-415f-bfa6-4c86290013bc"
      },
      "source": [
        "# 오리온 파이 이미지\n",
        "if snack_imgs:\n",
        "    snack_imgs_list = snack_imgs.select('img')\n",
        "    for i in range(0, len(snack_imgs_list)-4, 2):\n",
        "        img_url = snack_imgs_list[i]['src']\n",
        "        img_url = \"https://www.orionworld.com\" + img_url \n",
        "        filename = img_url.split('/')[-1]\n",
        "        print(img_url)\n",
        "        urlretrieve(img_url, filename)"
      ],
      "execution_count": null,
      "outputs": [
        {
          "output_type": "stream",
          "text": [
            "https://www.orionworld.com/DATA/Goods/s_0001.gif\n",
            "https://www.orionworld.com/DATA/Goods/125_127[12].jpg\n",
            "https://www.orionworld.com/DATA/Goods/125_127[88].jpg\n",
            "https://www.orionworld.com/DATA/Goods/125_127[31].jpg\n",
            "https://www.orionworld.com/DATA/Goods/125_127[57].png\n",
            "https://www.orionworld.com/DATA/Goods/ch_s.gif\n"
          ],
          "name": "stdout"
        }
      ]
    },
    {
      "cell_type": "code",
      "metadata": {
        "id": "acB2cwS-7tXv"
      },
      "source": [
        "url = 'http://www.orionworld.com/Snak/power_brand/productinfo.asp?icodeNo=1'\n",
        "headers = {'Accept': 'text/html,application/xhtml+xml,application/xml;q=0.9,image/avif,image/webp,image/apng,*/*;q=0.8,application/signed-exchange;v=b3;q=0.9',\n",
        "           'Accept-Encoding': 'gzip, deflate',\n",
        "           'Accept-Language': 'ko-KR,ko;q=0.9,en-US;q=0.8,en;q=0.7'}\n",
        "res = requests.get(url, headers=headers)\n",
        "data = res.content\n",
        "soup = BeautifulSoup(data, 'html.parser', from_encoding='utf8')\n",
        "snack_imgs = soup.select_one('#subContents > div.typeList')\n",
        "snack_imgs_list = snack_imgs.select('img')"
      ],
      "execution_count": null,
      "outputs": []
    },
    {
      "cell_type": "code",
      "metadata": {
        "colab": {
          "base_uri": "https://localhost:8080/"
        },
        "id": "nUVx_zT97tVe",
        "outputId": "ab655770-3226-4372-8ab9-022494de01ee"
      },
      "source": [
        "if snack_imgs:\n",
        "\n",
        "    snack_imgs_list = snack_imgs.select('img')\n",
        "    while True:\n",
        "        try :\n",
        "            for i in range(2, len(snack_imgs_list), 2):\n",
        "                img_url = snack_imgs_list[i]['src']\n",
        "                img_url = \"https://www.orionworld.com\" + img_url \n",
        "                filename = img_url.split('/')[-1]\n",
        "                print(img_url)\n",
        "                urlretrieve(img_url, filename)\n",
        "        except UnicodeEncodeError:\n",
        "            break"
      ],
      "execution_count": null,
      "outputs": [
        {
          "output_type": "stream",
          "text": [
            "https://www.orionworld.com/DATA/Goods/125_127[43].jpg\n",
            "https://www.orionworld.com/DATA/Goods/125_127[29].jpg\n",
            "https://www.orionworld.com/DATA/Goods/다이제_125.jpg\n"
          ],
          "name": "stdout"
        }
      ]
    },
    {
      "cell_type": "code",
      "metadata": {
        "id": "d0W4ffq17tS3"
      },
      "source": [
        "url = 'http://www.orionworld.com/Snak/power_brand/productinfo.asp?icodeNo=2'\n",
        "headers = {'Accept': 'text/html,application/xhtml+xml,application/xml;q=0.9,image/avif,image/webp,image/apng,*/*;q=0.8,application/signed-exchange;v=b3;q=0.9',\n",
        "           'Accept-Encoding': 'gzip, deflate',\n",
        "           'Accept-Language': 'ko-KR,ko;q=0.9,en-US;q=0.8,en;q=0.7'}\n",
        "res = requests.get(url, headers=headers)\n",
        "data = res.content\n",
        "soup = BeautifulSoup(data, 'html.parser', from_encoding='utf8')\n",
        "snack_imgs = soup.select_one('#subContents > div.typeList')\n",
        "snack_imgs_list = snack_imgs.select('img')\n"
      ],
      "execution_count": null,
      "outputs": []
    },
    {
      "cell_type": "code",
      "metadata": {
        "colab": {
          "base_uri": "https://localhost:8080/"
        },
        "id": "HAqr1beo7tQY",
        "outputId": "3bc6d1a8-8e06-49bf-f987-f120de884f66"
      },
      "source": [
        "if snack_imgs:\n",
        "\n",
        "    snack_imgs_list = snack_imgs.select('img')\n",
        "    while True:\n",
        "        try :\n",
        "            for i in range(0, len(snack_imgs_list), 2):\n",
        "                img_url = snack_imgs_list[i]['src']\n",
        "                img_url = \"https://www.orionworld.com\" + img_url \n",
        "                filename = img_url.split('/')[-1]\n",
        "                print(img_url)\n",
        "                urlretrieve(img_url, filename)\n",
        "        except UnicodeEncodeError:\n",
        "            break"
      ],
      "execution_count": null,
      "outputs": [
        {
          "output_type": "stream",
          "text": [
            "https://www.orionworld.com/DATA/Goods/125_127[78].jpg\n",
            "https://www.orionworld.com/DATA/Goods/125_127[62].jpg\n",
            "https://www.orionworld.com/DATA/Goods/125_127[36].jpg\n",
            "https://www.orionworld.com/DATA/Goods/다이제볼_미니_125_[2].jpg\n"
          ],
          "name": "stdout"
        }
      ]
    },
    {
      "cell_type": "code",
      "metadata": {
        "id": "lUVH0l0O7tKP"
      },
      "source": [
        "url = 'http://www.orionworld.com/Snak/power_brand/productinfo.asp?icodeNo=3'\n",
        "headers = {'Accept': 'text/html,application/xhtml+xml,application/xml;q=0.9,image/avif,image/webp,image/apng,*/*;q=0.8,application/signed-exchange;v=b3;q=0.9',\n",
        "           'Accept-Encoding': 'gzip, deflate',\n",
        "           'Accept-Language': 'ko-KR,ko;q=0.9,en-US;q=0.8,en;q=0.7'}\n",
        "res = requests.get(url, headers=headers)\n",
        "data = res.content\n",
        "soup = BeautifulSoup(data, 'html.parser', from_encoding='utf8')\n",
        "snack_imgs = soup.select_one('#subContents > div.typeList')\n",
        "snack_imgs_list = snack_imgs.select('img')"
      ],
      "execution_count": null,
      "outputs": []
    },
    {
      "cell_type": "code",
      "metadata": {
        "colab": {
          "base_uri": "https://localhost:8080/"
        },
        "id": "-8FAiUHbCye-",
        "outputId": "964dd0c2-2d1d-4127-cc70-42eafa28f355"
      },
      "source": [
        "if snack_imgs:\n",
        "\n",
        "    snack_imgs_list = snack_imgs.select('img')\n",
        "    while True:\n",
        "        try :\n",
        "            for i in range(0, len(snack_imgs_list), 2):\n",
        "                img_url = snack_imgs_list[i]['src']\n",
        "                img_url = \"https://www.orionworld.com\" + img_url \n",
        "                filename = img_url.split('/')[-1]\n",
        "                print(img_url)\n",
        "                urlretrieve(img_url, filename)\n",
        "        except UnicodeEncodeError:\n",
        "            break"
      ],
      "execution_count": null,
      "outputs": [
        {
          "output_type": "stream",
          "text": [
            "https://www.orionworld.com/DATA/Goods/125_127[51].jpg\n",
            "https://www.orionworld.com/DATA/Goods/125_127[86].png\n",
            "https://www.orionworld.com/DATA/Goods/125_127[22].png\n",
            "https://www.orionworld.com/DATA/Goods/125_127[45].jpg\n",
            "https://www.orionworld.com/DATA/Goods/더자일리톨_S.jpg\n"
          ],
          "name": "stdout"
        }
      ]
    },
    {
      "cell_type": "code",
      "metadata": {
        "id": "MH73sesPCybx"
      },
      "source": [
        "url = 'http://www.orionworld.com/Snak/power_brand/productinfo.asp?icodeNo=4'\n",
        "headers = {'Accept': 'text/html,application/xhtml+xml,application/xml;q=0.9,image/avif,image/webp,image/apng,*/*;q=0.8,application/signed-exchange;v=b3;q=0.9',\n",
        "           'Accept-Encoding': 'gzip, deflate',\n",
        "           'Accept-Language': 'ko-KR,ko;q=0.9,en-US;q=0.8,en;q=0.7'}\n",
        "res = requests.get(url, headers=headers)\n",
        "data = res.content\n",
        "soup = BeautifulSoup(data, 'html.parser', from_encoding='utf8')\n",
        "snack_imgs = soup.select_one('#subContents > div.typeList')\n",
        "snack_imgs_list = snack_imgs.select('img')"
      ],
      "execution_count": null,
      "outputs": []
    },
    {
      "cell_type": "code",
      "metadata": {
        "colab": {
          "base_uri": "https://localhost:8080/"
        },
        "id": "yp7kRw4VCyTg",
        "outputId": "51e9cba0-705d-4ba2-8708-742fdd8ff899"
      },
      "source": [
        "if snack_imgs:\n",
        "\n",
        "    snack_imgs_list = snack_imgs.select('img')\n",
        "    while True:\n",
        "        try :\n",
        "            for i in range(0, len(snack_imgs_list), 2):\n",
        "                img_url = snack_imgs_list[i]['src']\n",
        "                img_url = \"https://www.orionworld.com\" + img_url \n",
        "                filename = img_url.split('/')[-1]\n",
        "                print(img_url)\n",
        "                urlretrieve(img_url, filename)\n",
        "        except UnicodeEncodeError:\n",
        "            break"
      ],
      "execution_count": null,
      "outputs": [
        {
          "output_type": "stream",
          "text": [
            "https://www.orionworld.com/DATA/Goods/s_125x127[3].jpg\n",
            "https://www.orionworld.com/DATA/Goods/125_127[69].jpg\n",
            "https://www.orionworld.com/DATA/Goods/125_127[25].jpg\n",
            "https://www.orionworld.com/DATA/Goods/마이구미_청포도_125_127.jpg\n"
          ],
          "name": "stdout"
        }
      ]
    },
    {
      "cell_type": "code",
      "metadata": {
        "id": "ZYyOcPSvC9Bx"
      },
      "source": [
        "url = 'http://www.orionworld.com/Snak/power_brand/productinfo.asp?icodeNo=5'\n",
        "headers = {'Accept': 'text/html,application/xhtml+xml,application/xml;q=0.9,image/avif,image/webp,image/apng,*/*;q=0.8,application/signed-exchange;v=b3;q=0.9',\n",
        "           'Accept-Encoding': 'gzip, deflate',\n",
        "           'Accept-Language': 'ko-KR,ko;q=0.9,en-US;q=0.8,en;q=0.7'}\n",
        "res = requests.get(url, headers=headers)\n",
        "data = res.content\n",
        "soup = BeautifulSoup(data, 'html.parser', from_encoding='utf8')\n",
        "snack_imgs = soup.select_one('#subContents > div.typeList')\n",
        "snack_imgs_list = snack_imgs.select('img')"
      ],
      "execution_count": null,
      "outputs": []
    },
    {
      "cell_type": "code",
      "metadata": {
        "colab": {
          "base_uri": "https://localhost:8080/"
        },
        "id": "OVJqa8xBC86n",
        "outputId": "08ef6c59-d25c-4a84-db63-62b147a26ce8"
      },
      "source": [
        "if snack_imgs:\n",
        "\n",
        "    snack_imgs_list = snack_imgs.select('img')\n",
        "    while True:\n",
        "        try :\n",
        "            for i in range(0, len(snack_imgs_list), 2):\n",
        "                img_url = snack_imgs_list[i]['src']\n",
        "                img_url = \"https://www.orionworld.com\" + img_url \n",
        "                filename = img_url.split('/')[-1]\n",
        "                print(img_url)\n",
        "                urlretrieve(img_url, filename)\n",
        "        except UnicodeEncodeError:\n",
        "            break"
      ],
      "execution_count": null,
      "outputs": [
        {
          "output_type": "stream",
          "text": [
            "https://www.orionworld.com/DATA/Goods/s-HoneyButterOhGuma[2].png\n",
            "https://www.orionworld.com/DATA/Goods/s-Pepper_Chip[2].png\n",
            "https://www.orionworld.com/DATA/Goods/s_210521.jpg\n",
            "https://www.orionworld.com/DATA/Goods/125_127[82].jpg\n",
            "https://www.orionworld.com/DATA/Goods/125_127[8].jpg\n",
            "https://www.orionworld.com/DATA/Goods/125_127[74].png\n",
            "https://www.orionworld.com/DATA/Goods/125_127[62].png\n",
            "https://www.orionworld.com/DATA/Goods/125_127[39].jpg\n",
            "https://www.orionworld.com/DATA/Goods/125_127_both.png\n",
            "https://www.orionworld.com/DATA/Goods/125_127_스윙칩.jpg\n"
          ],
          "name": "stdout"
        }
      ]
    },
    {
      "cell_type": "code",
      "metadata": {
        "colab": {
          "base_uri": "https://localhost:8080/",
          "height": 982
        },
        "id": "MwHkp6v84hco",
        "outputId": "ce3a7974-07b6-4a0d-f89f-efe6b015a650"
      },
      "source": [
        "!zip -r \"/content/files.zip\" \"/content/\"\n",
        "from google.colab import files\n",
        "files.download(\"files.zip\")"
      ],
      "execution_count": null,
      "outputs": [
        {
          "output_type": "stream",
          "text": [
            "  adding: content/ (stored 0%)\n",
            "  adding: content/.config/ (stored 0%)\n",
            "  adding: content/.config/logs/ (stored 0%)\n",
            "  adding: content/.config/logs/2021.07.01/ (stored 0%)\n",
            "  adding: content/.config/logs/2021.07.01/13.41.56.945079.log (deflated 54%)\n",
            "  adding: content/.config/logs/2021.07.01/13.40.56.775713.log (deflated 91%)\n",
            "  adding: content/.config/logs/2021.07.01/13.41.17.729047.log (deflated 54%)\n",
            "  adding: content/.config/logs/2021.07.01/13.41.40.038589.log (deflated 54%)\n",
            "  adding: content/.config/logs/2021.07.01/13.41.57.665710.log (deflated 53%)\n",
            "  adding: content/.config/logs/2021.07.01/13.41.33.930553.log (deflated 86%)\n",
            "  adding: content/.config/configurations/ (stored 0%)\n",
            "  adding: content/.config/configurations/config_default (deflated 15%)\n",
            "  adding: content/.config/.last_opt_in_prompt.yaml (stored 0%)\n",
            "  adding: content/.config/config_sentinel (stored 0%)\n",
            "  adding: content/.config/active_config (stored 0%)\n",
            "  adding: content/.config/.last_update_check.json (deflated 24%)\n",
            "  adding: content/.config/.last_survey_prompt.yaml (stored 0%)\n",
            "  adding: content/.config/gce (stored 0%)\n",
            "  adding: content/ch_s.gif (deflated 4%)\n",
            "  adding: content/125_127[31].jpg (deflated 6%)\n",
            "  adding: content/125_127[62].jpg (deflated 6%)\n",
            "  adding: content/125_127[69].jpg (deflated 5%)\n",
            "  adding: content/125_127[82].jpg (deflated 2%)\n",
            "  adding: content/125_127[78].jpg (deflated 5%)\n",
            "  adding: content/125_127[8].jpg (deflated 5%)\n",
            "  adding: content/125_127[45].jpg (deflated 6%)\n",
            "  adding: content/s-HoneyButterOhGuma[2].png (stored 0%)\n",
            "  adding: content/125_127[88].jpg (deflated 28%)\n",
            "  adding: content/125_127[74].png (deflated 1%)\n",
            "  adding: content/s_125x127[3].jpg (deflated 44%)\n",
            "  adding: content/125_127[29].jpg (deflated 7%)\n",
            "  adding: content/125_127[43].jpg (deflated 5%)\n",
            "  adding: content/125_127[22].png (deflated 2%)\n",
            "  adding: content/125_127[12].jpg (deflated 1%)\n",
            "  adding: content/s_0001.gif (deflated 4%)\n",
            "  adding: content/125_127[25].jpg (deflated 6%)\n",
            "  adding: content/s_210521.jpg (deflated 24%)\n",
            "  adding: content/125_127[51].jpg (deflated 6%)\n",
            "  adding: content/s-Pepper_Chip[2].png (deflated 1%)\n",
            "  adding: content/125_127[39].jpg (deflated 7%)\n",
            "  adding: content/125_127[36].jpg (deflated 11%)\n",
            "  adding: content/125_127[62].png (deflated 1%)\n",
            "  adding: content/125_127[86].png (deflated 2%)\n",
            "  adding: content/125_127[57].png (deflated 1%)\n",
            "  adding: content/125_127_both.png (deflated 1%)\n",
            "  adding: content/sample_data/ (stored 0%)\n",
            "  adding: content/sample_data/anscombe.json (deflated 83%)\n",
            "  adding: content/sample_data/README.md (deflated 42%)\n",
            "  adding: content/sample_data/california_housing_test.csv (deflated 76%)\n",
            "  adding: content/sample_data/mnist_test.csv (deflated 88%)\n",
            "  adding: content/sample_data/mnist_train_small.csv (deflated 88%)\n",
            "  adding: content/sample_data/california_housing_train.csv (deflated 79%)\n"
          ],
          "name": "stdout"
        },
        {
          "output_type": "display_data",
          "data": {
            "application/javascript": [
              "\n",
              "    async function download(id, filename, size) {\n",
              "      if (!google.colab.kernel.accessAllowed) {\n",
              "        return;\n",
              "      }\n",
              "      const div = document.createElement('div');\n",
              "      const label = document.createElement('label');\n",
              "      label.textContent = `Downloading \"${filename}\": `;\n",
              "      div.appendChild(label);\n",
              "      const progress = document.createElement('progress');\n",
              "      progress.max = size;\n",
              "      div.appendChild(progress);\n",
              "      document.body.appendChild(div);\n",
              "\n",
              "      const buffers = [];\n",
              "      let downloaded = 0;\n",
              "\n",
              "      const channel = await google.colab.kernel.comms.open(id);\n",
              "      // Send a message to notify the kernel that we're ready.\n",
              "      channel.send({})\n",
              "\n",
              "      for await (const message of channel.messages) {\n",
              "        // Send a message to notify the kernel that we're ready.\n",
              "        channel.send({})\n",
              "        if (message.buffers) {\n",
              "          for (const buffer of message.buffers) {\n",
              "            buffers.push(buffer);\n",
              "            downloaded += buffer.byteLength;\n",
              "            progress.value = downloaded;\n",
              "          }\n",
              "        }\n",
              "      }\n",
              "      const blob = new Blob(buffers, {type: 'application/binary'});\n",
              "      const a = document.createElement('a');\n",
              "      a.href = window.URL.createObjectURL(blob);\n",
              "      a.download = filename;\n",
              "      div.appendChild(a);\n",
              "      a.click();\n",
              "      div.remove();\n",
              "    }\n",
              "  "
            ],
            "text/plain": [
              "<IPython.core.display.Javascript object>"
            ]
          },
          "metadata": {
            "tags": []
          }
        },
        {
          "output_type": "display_data",
          "data": {
            "application/javascript": [
              "download(\"download_cb1b3a99-d602-40df-b6d2-a6e070e0e3f6\", \"files.zip\", 7486924)"
            ],
            "text/plain": [
              "<IPython.core.display.Javascript object>"
            ]
          },
          "metadata": {
            "tags": []
          }
        }
      ]
    },
    {
      "cell_type": "code",
      "metadata": {
        "id": "c-vKNHPX7l-Q"
      },
      "source": [
        ""
      ],
      "execution_count": null,
      "outputs": []
    }
  ]
}